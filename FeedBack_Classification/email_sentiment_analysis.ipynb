{
 "cells": [
  {
   "cell_type": "code",
   "execution_count": 336,
   "id": "5c01867d-0fd8-4f24-980d-1690e5c7549f",
   "metadata": {},
   "outputs": [],
   "source": [
    "import pandas as pd\n",
    "import numpy as np\n",
    "import seaborn as sns\n",
    "import matplotlib.pyplot as plt\n",
    "import plotly.express as px\n",
    "import warnings\n",
    "import spacy\n",
    "from spacy.lang.en import stop_words\n",
    "warnings.filterwarnings('ignore')\n",
    "\n",
    "pd.set_option('display.max_columns',30)"
   ]
  },
  {
   "cell_type": "code",
   "execution_count": 337,
   "id": "2a54b7c3-51b8-4806-ac90-6164987c54ee",
   "metadata": {},
   "outputs": [],
   "source": [
    "df = pd.read_csv('clients_emails_filterd_new.csv')"
   ]
  },
  {
   "cell_type": "code",
   "execution_count": 338,
   "id": "df9ee8b4-791c-429e-a9dc-27c5cc395fdf",
   "metadata": {},
   "outputs": [],
   "source": [
    "df.drop('Unnamed: 0',axis=1,inplace=True)\n",
    "df.reset_index(inplace=True)\n",
    "df.drop('index',axis=1,inplace=True)"
   ]
  },
  {
   "cell_type": "code",
   "execution_count": 339,
   "id": "dbd74ea2-6cb1-442c-9e1b-92d4711fb0c7",
   "metadata": {},
   "outputs": [],
   "source": [
    "df.drop('level_0',axis=1,inplace=True)"
   ]
  },
  {
   "cell_type": "code",
   "execution_count": 340,
   "id": "041b9a00-926e-4503-8bce-17f0d6618220",
   "metadata": {},
   "outputs": [
    {
     "data": {
      "text/html": [
       "<div>\n",
       "<style scoped>\n",
       "    .dataframe tbody tr th:only-of-type {\n",
       "        vertical-align: middle;\n",
       "    }\n",
       "\n",
       "    .dataframe tbody tr th {\n",
       "        vertical-align: top;\n",
       "    }\n",
       "\n",
       "    .dataframe thead th {\n",
       "        text-align: right;\n",
       "    }\n",
       "</style>\n",
       "<table border=\"1\" class=\"dataframe\">\n",
       "  <thead>\n",
       "    <tr style=\"text-align: right;\">\n",
       "      <th></th>\n",
       "      <th>cli_name</th>\n",
       "      <th>Subject</th>\n",
       "      <th>From</th>\n",
       "      <th>To</th>\n",
       "      <th>Text</th>\n",
       "    </tr>\n",
       "  </thead>\n",
       "  <tbody>\n",
       "    <tr>\n",
       "      <th>0</th>\n",
       "      <td>Giza Systems</td>\n",
       "      <td>RE Company Form 20 Adding Richard and Ehab Th...</td>\n",
       "      <td>Ahmed Hany</td>\n",
       "      <td>Salim salim</td>\n",
       "      <td>Adding Richard and Ehab</td>\n",
       "    </tr>\n",
       "    <tr>\n",
       "      <th>1</th>\n",
       "      <td>Giza Systems</td>\n",
       "      <td>RE Rejection of TCC</td>\n",
       "      <td>Ahmed Hany</td>\n",
       "      <td>Nanyonjo Jacinta</td>\n",
       "      <td>Dear Rita Kindly find attached</td>\n",
       "    </tr>\n",
       "    <tr>\n",
       "      <th>2</th>\n",
       "      <td>INDEPENDENT MEDICO LEGAL UNIT (IMLU)</td>\n",
       "      <td>Application for Income Tax Exemption Certificate</td>\n",
       "      <td>Carolyn Njange</td>\n",
       "      <td>Peter</td>\n",
       "      <td>Dear Mwangi This is fine with us</td>\n",
       "    </tr>\n",
       "    <tr>\n",
       "      <th>3</th>\n",
       "      <td>INDEPENDENT MEDICO LEGAL UNIT (IMLU)</td>\n",
       "      <td>Application for Income Tax Exemption Certificate</td>\n",
       "      <td>Carolyn Njange</td>\n",
       "      <td>Peter</td>\n",
       "      <td>Dear Carolyn Good evening Thank you for reachi...</td>\n",
       "    </tr>\n",
       "    <tr>\n",
       "      <th>4</th>\n",
       "      <td>INDEPENDENT MEDICO LEGAL UNIT (IMLU)</td>\n",
       "      <td>Application for Income Tax Exemption Certificate</td>\n",
       "      <td>Carolyn Njange</td>\n",
       "      <td>Peter</td>\n",
       "      <td>Dear Mwangi We spoke when Phoebe requested the...</td>\n",
       "    </tr>\n",
       "    <tr>\n",
       "      <th>...</th>\n",
       "      <td>...</td>\n",
       "      <td>...</td>\n",
       "      <td>...</td>\n",
       "      <td>...</td>\n",
       "      <td>...</td>\n",
       "    </tr>\n",
       "    <tr>\n",
       "      <th>104</th>\n",
       "      <td>Snetor East Africa Limited</td>\n",
       "      <td>Fw REQUEST FOR INFORMATION</td>\n",
       "      <td>Shiraz Rehmanji</td>\n",
       "      <td>REHMANJI s</td>\n",
       "      <td>Good Afternoon I hope this finds you well plea...</td>\n",
       "    </tr>\n",
       "    <tr>\n",
       "      <th>105</th>\n",
       "      <td>Snetor East Africa Limited</td>\n",
       "      <td>Fw REQUEST FOR INFORMATION</td>\n",
       "      <td>Shiraz Rehmanji</td>\n",
       "      <td>REHMANJI s</td>\n",
       "      <td>Good Afternoon I hope this finds you well plea...</td>\n",
       "    </tr>\n",
       "    <tr>\n",
       "      <th>106</th>\n",
       "      <td>Snetor East Africa Limited</td>\n",
       "      <td>Fw REQUEST FOR INFORMATION</td>\n",
       "      <td>Shiraz Rehmanji</td>\n",
       "      <td>REHMANJI s</td>\n",
       "      <td>Good Afternoon I hope this finds you well plea...</td>\n",
       "    </tr>\n",
       "    <tr>\n",
       "      <th>107</th>\n",
       "      <td>Snetor East Africa Limited</td>\n",
       "      <td>Fw REQUEST FOR INFORMATION</td>\n",
       "      <td>Shiraz Rehmanji</td>\n",
       "      <td>REHMANJI s</td>\n",
       "      <td>Good Afternoon I hope this finds you well plea...</td>\n",
       "    </tr>\n",
       "    <tr>\n",
       "      <th>108</th>\n",
       "      <td>Snetor East Africa Limited</td>\n",
       "      <td>Fw REQUEST FOR INFORMATION</td>\n",
       "      <td>Shiraz Rehmanji</td>\n",
       "      <td>REHMANJI s</td>\n",
       "      <td>Good Afternoon I hope this finds you well plea...</td>\n",
       "    </tr>\n",
       "  </tbody>\n",
       "</table>\n",
       "<p>109 rows × 5 columns</p>\n",
       "</div>"
      ],
      "text/plain": [
       "                                 cli_name  \\\n",
       "0                            Giza Systems   \n",
       "1                            Giza Systems   \n",
       "2    INDEPENDENT MEDICO LEGAL UNIT (IMLU)   \n",
       "3    INDEPENDENT MEDICO LEGAL UNIT (IMLU)   \n",
       "4    INDEPENDENT MEDICO LEGAL UNIT (IMLU)   \n",
       "..                                    ...   \n",
       "104            Snetor East Africa Limited   \n",
       "105            Snetor East Africa Limited   \n",
       "106            Snetor East Africa Limited   \n",
       "107            Snetor East Africa Limited   \n",
       "108            Snetor East Africa Limited   \n",
       "\n",
       "                                               Subject             From  \\\n",
       "0     RE Company Form 20 Adding Richard and Ehab Th...       Ahmed Hany   \n",
       "1                                  RE Rejection of TCC       Ahmed Hany   \n",
       "2     Application for Income Tax Exemption Certificate   Carolyn Njange   \n",
       "3     Application for Income Tax Exemption Certificate   Carolyn Njange   \n",
       "4     Application for Income Tax Exemption Certificate   Carolyn Njange   \n",
       "..                                                 ...              ...   \n",
       "104                         Fw REQUEST FOR INFORMATION  Shiraz Rehmanji   \n",
       "105                         Fw REQUEST FOR INFORMATION  Shiraz Rehmanji   \n",
       "106                         Fw REQUEST FOR INFORMATION  Shiraz Rehmanji   \n",
       "107                         Fw REQUEST FOR INFORMATION  Shiraz Rehmanji   \n",
       "108                         Fw REQUEST FOR INFORMATION  Shiraz Rehmanji   \n",
       "\n",
       "                   To                                               Text  \n",
       "0         Salim salim                            Adding Richard and Ehab  \n",
       "1    Nanyonjo Jacinta                     Dear Rita Kindly find attached  \n",
       "2               Peter                   Dear Mwangi This is fine with us  \n",
       "3               Peter  Dear Carolyn Good evening Thank you for reachi...  \n",
       "4               Peter  Dear Mwangi We spoke when Phoebe requested the...  \n",
       "..                ...                                                ...  \n",
       "104        REHMANJI s  Good Afternoon I hope this finds you well plea...  \n",
       "105        REHMANJI s  Good Afternoon I hope this finds you well plea...  \n",
       "106        REHMANJI s  Good Afternoon I hope this finds you well plea...  \n",
       "107        REHMANJI s  Good Afternoon I hope this finds you well plea...  \n",
       "108        REHMANJI s  Good Afternoon I hope this finds you well plea...  \n",
       "\n",
       "[109 rows x 5 columns]"
      ]
     },
     "execution_count": 340,
     "metadata": {},
     "output_type": "execute_result"
    }
   ],
   "source": [
    "df"
   ]
  },
  {
   "cell_type": "code",
   "execution_count": 341,
   "id": "a830a000-e517-482c-a108-eb3bd15c3158",
   "metadata": {},
   "outputs": [
    {
     "data": {
      "text/plain": [
       "cli_name    object\n",
       "Subject     object\n",
       "From        object\n",
       "To          object\n",
       "Text        object\n",
       "dtype: object"
      ]
     },
     "execution_count": 341,
     "metadata": {},
     "output_type": "execute_result"
    }
   ],
   "source": [
    "df.dtypes"
   ]
  },
  {
   "cell_type": "code",
   "execution_count": null,
   "id": "e8046a77-201f-435d-b242-4aaac874bbc6",
   "metadata": {},
   "outputs": [],
   "source": []
  },
  {
   "cell_type": "code",
   "execution_count": 343,
   "id": "190107d5-8772-497e-b60f-e063f4c41b05",
   "metadata": {},
   "outputs": [],
   "source": [
    "df.dropna(inplace=True)"
   ]
  },
  {
   "cell_type": "markdown",
   "id": "e97ed694-819d-4d46-be39-ca423290a82e",
   "metadata": {},
   "source": [
    "## Handling Null Values"
   ]
  },
  {
   "cell_type": "code",
   "execution_count": 344,
   "id": "df03f1ef-4917-45a5-baa8-405ddf79273a",
   "metadata": {},
   "outputs": [
    {
     "name": "stdout",
     "output_type": "stream",
     "text": [
      "Null Values in each column:\n",
      "    column name  Total missing  Percent missing\n",
      "0     cli_name              0              0.0\n",
      "1      Subject              0              0.0\n",
      "2         From              0              0.0\n",
      "3           To              0              0.0\n",
      "4         Text              0              0.0\n"
     ]
    }
   ],
   "source": [
    "null= df.isnull().sum().sort_values(ascending=False)\n",
    "total =df.shape[0]\n",
    "percent_missing= (df.isnull().sum()/total).sort_values(ascending=False)\n",
    "\n",
    "missing_data= pd.concat([null, percent_missing], axis=1, keys=['Total missing', 'Percent missing'])\n",
    "\n",
    "missing_data.reset_index(inplace=True)\n",
    "missing_data= missing_data.rename(columns= { \"index\": \" column name\"})\n",
    " \n",
    "print (\"Null Values in each column:\\n\", missing_data)"
   ]
  },
  {
   "cell_type": "code",
   "execution_count": null,
   "id": "283a2fe8-b5ce-4e4c-9875-a06eb12af134",
   "metadata": {},
   "outputs": [],
   "source": []
  },
  {
   "cell_type": "markdown",
   "id": "5270cfd6-f8f5-479f-b942-54ca2349c18d",
   "metadata": {},
   "source": [
    "## Preprocessing"
   ]
  },
  {
   "cell_type": "code",
   "execution_count": 345,
   "id": "cd369cab-16b7-4cf9-b5a2-c5fded879961",
   "metadata": {},
   "outputs": [
    {
     "name": "stdout",
     "output_type": "stream",
     "text": [
      "['chip', 'salim', 'martin', 'nanyonjo', 'geoffrey', 'timothy', 'john', 'mgichangi', 'chris', 'gwambua', 'carolyn', 'njuguna', 'hany', 'henry', 'njange', 'jacinta', 'staff', 'ahmed', 'charlotte', 'tmwangi', 'ernest', 'mercy', 'michael', 'clifford', 'peter', 'shiraz', 'rehmanji'] 27\n"
     ]
    }
   ],
   "source": [
    "names1 = [i.lower() for i in list(set(df['From']))]\n",
    "names2 = [i.lower() for i in list(set(df['To']))]\n",
    "# print(names1)\n",
    "# print(names2)\n",
    "complete_names = names1.extend(names2)\n",
    "short_names = []\n",
    "for name in names1:\n",
    "    tok = name.split()\n",
    "    for i in tok:\n",
    "        if len(i)>1:\n",
    "            short_names.append(i)\n",
    "for name in names2:\n",
    "    tok = name.split()\n",
    "    for i in tok:\n",
    "        if len(i)>1:\n",
    "            short_names.append(i)\n",
    "\n",
    "# names1 = set(names1.extend(short_names))\n",
    "short_names = list(set(short_names))\n",
    "print(short_names,len(short_names))"
   ]
  },
  {
   "cell_type": "code",
   "execution_count": 368,
   "id": "67a81825-7c49-4124-b727-b9350fc32079",
   "metadata": {},
   "outputs": [],
   "source": [
    "nlp = spacy.load('en_core_web_sm')\n",
    "def preprocessed_emails(text):\n",
    "    doc = nlp(text)\n",
    "    processed_text = [token.lemma_.lower() for token in doc if not token.is_stop if not token.is_punct if not token.is_digit if not token.is_bracket if not token.is_currency if not token.is_space]\n",
    "    filtered =  ' '.join(processed_text)\n",
    "    words = filtered.split()\n",
    "    preprocessed_text = [word for word in words if not word in ['http','https','www','com','org','mailto','regards','nan','Regards','Rgds','imlu','email','attachment','ea','e','bdo','kariuki','7C','7c','cnjange','peter','richard','rita','mwangi','carolyn','njange','ehab','dear','good','evening','afternoon','morning','ke','3d','mm','mw']]\n",
    "    preprocessed_text_filter_names = [word for word in preprocessed_text if not word in short_names]\n",
    "    return ' '.join(preprocessed_text_filter_names)"
   ]
  },
  {
   "cell_type": "code",
   "execution_count": null,
   "id": "bc629ece-8bab-44fc-a8c3-c67da112624b",
   "metadata": {},
   "outputs": [],
   "source": []
  },
  {
   "cell_type": "code",
   "execution_count": 369,
   "id": "3e7ee104-fa1e-4b19-a81e-85fcd8428182",
   "metadata": {},
   "outputs": [],
   "source": [
    "df['preprocessed_Text'] =  df.Text.apply(preprocessed_emails)"
   ]
  },
  {
   "cell_type": "code",
   "execution_count": 370,
   "id": "4ec66a72-f69f-466d-b0fe-1822bb3373f2",
   "metadata": {},
   "outputs": [
    {
     "data": {
      "text/html": [
       "<div>\n",
       "<style scoped>\n",
       "    .dataframe tbody tr th:only-of-type {\n",
       "        vertical-align: middle;\n",
       "    }\n",
       "\n",
       "    .dataframe tbody tr th {\n",
       "        vertical-align: top;\n",
       "    }\n",
       "\n",
       "    .dataframe thead th {\n",
       "        text-align: right;\n",
       "    }\n",
       "</style>\n",
       "<table border=\"1\" class=\"dataframe\">\n",
       "  <thead>\n",
       "    <tr style=\"text-align: right;\">\n",
       "      <th></th>\n",
       "      <th>cli_name</th>\n",
       "      <th>Subject</th>\n",
       "      <th>From</th>\n",
       "      <th>To</th>\n",
       "      <th>Text</th>\n",
       "      <th>preprocessed_Text</th>\n",
       "      <th>description_lengths</th>\n",
       "      <th>score</th>\n",
       "      <th>compound</th>\n",
       "      <th>Sentiment</th>\n",
       "    </tr>\n",
       "  </thead>\n",
       "  <tbody>\n",
       "    <tr>\n",
       "      <th>0</th>\n",
       "      <td>Giza Systems</td>\n",
       "      <td>RE Company Form 20 Adding Richard and Ehab Th...</td>\n",
       "      <td>Ahmed Hany</td>\n",
       "      <td>Salim salim</td>\n",
       "      <td>Adding Richard and Ehab</td>\n",
       "      <td>add</td>\n",
       "      <td>1</td>\n",
       "      <td>{'neg': 0.0, 'neu': 1.0, 'pos': 0.0, 'compound...</td>\n",
       "      <td>0.0000</td>\n",
       "      <td>Neutral</td>\n",
       "    </tr>\n",
       "    <tr>\n",
       "      <th>1</th>\n",
       "      <td>Giza Systems</td>\n",
       "      <td>RE Rejection of TCC</td>\n",
       "      <td>Ahmed Hany</td>\n",
       "      <td>Nanyonjo Jacinta</td>\n",
       "      <td>Dear Rita Kindly find attached</td>\n",
       "      <td>kindly find attach</td>\n",
       "      <td>3</td>\n",
       "      <td>{'neg': 0.0, 'neu': 0.385, 'pos': 0.615, 'comp...</td>\n",
       "      <td>0.4939</td>\n",
       "      <td>Satisfied</td>\n",
       "    </tr>\n",
       "    <tr>\n",
       "      <th>2</th>\n",
       "      <td>INDEPENDENT MEDICO LEGAL UNIT (IMLU)</td>\n",
       "      <td>Application for Income Tax Exemption Certificate</td>\n",
       "      <td>Carolyn Njange</td>\n",
       "      <td>Peter</td>\n",
       "      <td>Dear Mwangi This is fine with us</td>\n",
       "      <td>fine</td>\n",
       "      <td>1</td>\n",
       "      <td>{'neg': 0.0, 'neu': 0.0, 'pos': 1.0, 'compound...</td>\n",
       "      <td>0.2023</td>\n",
       "      <td>Satisfied</td>\n",
       "    </tr>\n",
       "    <tr>\n",
       "      <th>3</th>\n",
       "      <td>INDEPENDENT MEDICO LEGAL UNIT (IMLU)</td>\n",
       "      <td>Application for Income Tax Exemption Certificate</td>\n",
       "      <td>Carolyn Njange</td>\n",
       "      <td>Peter</td>\n",
       "      <td>Dear Carolyn Good evening Thank you for reachi...</td>\n",
       "      <td>thank reach propose meeting tomorrow 00am disc...</td>\n",
       "      <td>18</td>\n",
       "      <td>{'neg': 0.0, 'neu': 0.711, 'pos': 0.289, 'comp...</td>\n",
       "      <td>0.6249</td>\n",
       "      <td>Very Satisfied</td>\n",
       "    </tr>\n",
       "    <tr>\n",
       "      <th>4</th>\n",
       "      <td>INDEPENDENT MEDICO LEGAL UNIT (IMLU)</td>\n",
       "      <td>Application for Income Tax Exemption Certificate</td>\n",
       "      <td>Carolyn Njange</td>\n",
       "      <td>Peter</td>\n",
       "      <td>Dear Mwangi We spoke when Phoebe requested the...</td>\n",
       "      <td>speak phoebe request additional information pr...</td>\n",
       "      <td>24</td>\n",
       "      <td>{'neg': 0.068, 'neu': 0.533, 'pos': 0.399, 'co...</td>\n",
       "      <td>0.8807</td>\n",
       "      <td>Very Satisfied</td>\n",
       "    </tr>\n",
       "    <tr>\n",
       "      <th>...</th>\n",
       "      <td>...</td>\n",
       "      <td>...</td>\n",
       "      <td>...</td>\n",
       "      <td>...</td>\n",
       "      <td>...</td>\n",
       "      <td>...</td>\n",
       "      <td>...</td>\n",
       "      <td>...</td>\n",
       "      <td>...</td>\n",
       "      <td>...</td>\n",
       "    </tr>\n",
       "    <tr>\n",
       "      <th>104</th>\n",
       "      <td>Snetor East Africa Limited</td>\n",
       "      <td>Fw REQUEST FOR INFORMATION</td>\n",
       "      <td>Shiraz Rehmanji</td>\n",
       "      <td>REHMANJI s</td>\n",
       "      <td>Good Afternoon I hope this finds you well plea...</td>\n",
       "      <td>hope find provide certify copy record list pro...</td>\n",
       "      <td>10</td>\n",
       "      <td>{'neg': 0.0, 'neu': 0.588, 'pos': 0.412, 'comp...</td>\n",
       "      <td>0.6808</td>\n",
       "      <td>Very Satisfied</td>\n",
       "    </tr>\n",
       "    <tr>\n",
       "      <th>105</th>\n",
       "      <td>Snetor East Africa Limited</td>\n",
       "      <td>Fw REQUEST FOR INFORMATION</td>\n",
       "      <td>Shiraz Rehmanji</td>\n",
       "      <td>REHMANJI s</td>\n",
       "      <td>Good Afternoon I hope this finds you well plea...</td>\n",
       "      <td>hope find provide certify copy record list pro...</td>\n",
       "      <td>10</td>\n",
       "      <td>{'neg': 0.0, 'neu': 0.588, 'pos': 0.412, 'comp...</td>\n",
       "      <td>0.6808</td>\n",
       "      <td>Very Satisfied</td>\n",
       "    </tr>\n",
       "    <tr>\n",
       "      <th>106</th>\n",
       "      <td>Snetor East Africa Limited</td>\n",
       "      <td>Fw REQUEST FOR INFORMATION</td>\n",
       "      <td>Shiraz Rehmanji</td>\n",
       "      <td>REHMANJI s</td>\n",
       "      <td>Good Afternoon I hope this finds you well plea...</td>\n",
       "      <td>hope find provide certify copy record list pro...</td>\n",
       "      <td>10</td>\n",
       "      <td>{'neg': 0.0, 'neu': 0.588, 'pos': 0.412, 'comp...</td>\n",
       "      <td>0.6808</td>\n",
       "      <td>Very Satisfied</td>\n",
       "    </tr>\n",
       "    <tr>\n",
       "      <th>107</th>\n",
       "      <td>Snetor East Africa Limited</td>\n",
       "      <td>Fw REQUEST FOR INFORMATION</td>\n",
       "      <td>Shiraz Rehmanji</td>\n",
       "      <td>REHMANJI s</td>\n",
       "      <td>Good Afternoon I hope this finds you well plea...</td>\n",
       "      <td>hope find provide certify copy record list pro...</td>\n",
       "      <td>10</td>\n",
       "      <td>{'neg': 0.0, 'neu': 0.588, 'pos': 0.412, 'comp...</td>\n",
       "      <td>0.6808</td>\n",
       "      <td>Very Satisfied</td>\n",
       "    </tr>\n",
       "    <tr>\n",
       "      <th>108</th>\n",
       "      <td>Snetor East Africa Limited</td>\n",
       "      <td>Fw REQUEST FOR INFORMATION</td>\n",
       "      <td>Shiraz Rehmanji</td>\n",
       "      <td>REHMANJI s</td>\n",
       "      <td>Good Afternoon I hope this finds you well plea...</td>\n",
       "      <td>hope find provide certify copy record list pro...</td>\n",
       "      <td>10</td>\n",
       "      <td>{'neg': 0.0, 'neu': 0.588, 'pos': 0.412, 'comp...</td>\n",
       "      <td>0.6808</td>\n",
       "      <td>Very Satisfied</td>\n",
       "    </tr>\n",
       "  </tbody>\n",
       "</table>\n",
       "<p>108 rows × 10 columns</p>\n",
       "</div>"
      ],
      "text/plain": [
       "                                 cli_name  \\\n",
       "0                            Giza Systems   \n",
       "1                            Giza Systems   \n",
       "2    INDEPENDENT MEDICO LEGAL UNIT (IMLU)   \n",
       "3    INDEPENDENT MEDICO LEGAL UNIT (IMLU)   \n",
       "4    INDEPENDENT MEDICO LEGAL UNIT (IMLU)   \n",
       "..                                    ...   \n",
       "104            Snetor East Africa Limited   \n",
       "105            Snetor East Africa Limited   \n",
       "106            Snetor East Africa Limited   \n",
       "107            Snetor East Africa Limited   \n",
       "108            Snetor East Africa Limited   \n",
       "\n",
       "                                               Subject             From  \\\n",
       "0     RE Company Form 20 Adding Richard and Ehab Th...       Ahmed Hany   \n",
       "1                                  RE Rejection of TCC       Ahmed Hany   \n",
       "2     Application for Income Tax Exemption Certificate   Carolyn Njange   \n",
       "3     Application for Income Tax Exemption Certificate   Carolyn Njange   \n",
       "4     Application for Income Tax Exemption Certificate   Carolyn Njange   \n",
       "..                                                 ...              ...   \n",
       "104                         Fw REQUEST FOR INFORMATION  Shiraz Rehmanji   \n",
       "105                         Fw REQUEST FOR INFORMATION  Shiraz Rehmanji   \n",
       "106                         Fw REQUEST FOR INFORMATION  Shiraz Rehmanji   \n",
       "107                         Fw REQUEST FOR INFORMATION  Shiraz Rehmanji   \n",
       "108                         Fw REQUEST FOR INFORMATION  Shiraz Rehmanji   \n",
       "\n",
       "                   To                                               Text  \\\n",
       "0         Salim salim                            Adding Richard and Ehab   \n",
       "1    Nanyonjo Jacinta                     Dear Rita Kindly find attached   \n",
       "2               Peter                   Dear Mwangi This is fine with us   \n",
       "3               Peter  Dear Carolyn Good evening Thank you for reachi...   \n",
       "4               Peter  Dear Mwangi We spoke when Phoebe requested the...   \n",
       "..                ...                                                ...   \n",
       "104        REHMANJI s  Good Afternoon I hope this finds you well plea...   \n",
       "105        REHMANJI s  Good Afternoon I hope this finds you well plea...   \n",
       "106        REHMANJI s  Good Afternoon I hope this finds you well plea...   \n",
       "107        REHMANJI s  Good Afternoon I hope this finds you well plea...   \n",
       "108        REHMANJI s  Good Afternoon I hope this finds you well plea...   \n",
       "\n",
       "                                     preprocessed_Text  description_lengths  \\\n",
       "0                                                  add                    1   \n",
       "1                                   kindly find attach                    3   \n",
       "2                                                 fine                    1   \n",
       "3    thank reach propose meeting tomorrow 00am disc...                   18   \n",
       "4    speak phoebe request additional information pr...                   24   \n",
       "..                                                 ...                  ...   \n",
       "104  hope find provide certify copy record list pro...                   10   \n",
       "105  hope find provide certify copy record list pro...                   10   \n",
       "106  hope find provide certify copy record list pro...                   10   \n",
       "107  hope find provide certify copy record list pro...                   10   \n",
       "108  hope find provide certify copy record list pro...                   10   \n",
       "\n",
       "                                                 score  compound  \\\n",
       "0    {'neg': 0.0, 'neu': 1.0, 'pos': 0.0, 'compound...    0.0000   \n",
       "1    {'neg': 0.0, 'neu': 0.385, 'pos': 0.615, 'comp...    0.4939   \n",
       "2    {'neg': 0.0, 'neu': 0.0, 'pos': 1.0, 'compound...    0.2023   \n",
       "3    {'neg': 0.0, 'neu': 0.711, 'pos': 0.289, 'comp...    0.6249   \n",
       "4    {'neg': 0.068, 'neu': 0.533, 'pos': 0.399, 'co...    0.8807   \n",
       "..                                                 ...       ...   \n",
       "104  {'neg': 0.0, 'neu': 0.588, 'pos': 0.412, 'comp...    0.6808   \n",
       "105  {'neg': 0.0, 'neu': 0.588, 'pos': 0.412, 'comp...    0.6808   \n",
       "106  {'neg': 0.0, 'neu': 0.588, 'pos': 0.412, 'comp...    0.6808   \n",
       "107  {'neg': 0.0, 'neu': 0.588, 'pos': 0.412, 'comp...    0.6808   \n",
       "108  {'neg': 0.0, 'neu': 0.588, 'pos': 0.412, 'comp...    0.6808   \n",
       "\n",
       "          Sentiment  \n",
       "0           Neutral  \n",
       "1         Satisfied  \n",
       "2         Satisfied  \n",
       "3    Very Satisfied  \n",
       "4    Very Satisfied  \n",
       "..              ...  \n",
       "104  Very Satisfied  \n",
       "105  Very Satisfied  \n",
       "106  Very Satisfied  \n",
       "107  Very Satisfied  \n",
       "108  Very Satisfied  \n",
       "\n",
       "[108 rows x 10 columns]"
      ]
     },
     "execution_count": 370,
     "metadata": {},
     "output_type": "execute_result"
    }
   ],
   "source": [
    "df"
   ]
  },
  {
   "cell_type": "markdown",
   "id": "da2d061a-af83-4346-be24-287b98a1f645",
   "metadata": {},
   "source": [
    "## Creating Vocabulary"
   ]
  },
  {
   "cell_type": "code",
   "execution_count": 371,
   "id": "916d62ef-31ca-41fd-93e8-e94ad173d4e0",
   "metadata": {
    "scrolled": true
   },
   "outputs": [
    {
     "data": {
      "text/plain": [
       "0                                                [add]\n",
       "1                               [kindly, find, attach]\n",
       "2                                               [fine]\n",
       "3    [thank, reach, propose, meeting, tomorrow, 00a...\n",
       "4    [speak, phoebe, request, additional, informati...\n",
       "Name: preprocessed_Text, dtype: object"
      ]
     },
     "execution_count": 371,
     "metadata": {},
     "output_type": "execute_result"
    }
   ],
   "source": [
    "from nltk.tokenize import RegexpTokenizer\n",
    "tokenizer = RegexpTokenizer(r'\\w+')\n",
    "words_descriptions = df['preprocessed_Text'].apply(tokenizer.tokenize)\n",
    "words_descriptions.head()"
   ]
  },
  {
   "cell_type": "code",
   "execution_count": 372,
   "id": "140e9022-50b0-46e0-aa4d-74cbaef77cc3",
   "metadata": {},
   "outputs": [
    {
     "name": "stdout",
     "output_type": "stream",
     "text": [
      "1785 words total, with a vocabulary size of 610\n"
     ]
    }
   ],
   "source": [
    "all_words = [word for tokens in words_descriptions for word in tokens]\n",
    "df['description_lengths']= [len(tokens) for tokens in words_descriptions]\n",
    "VOCAB = sorted(list(set(all_words)))\n",
    "print(\"%s words total, with a vocabulary size of %s\" % (len(all_words), len(VOCAB)))"
   ]
  },
  {
   "cell_type": "markdown",
   "id": "8dfe71e6-741f-4d66-9c2f-3464a7ae06bf",
   "metadata": {
    "scrolled": true
   },
   "source": [
    "##  Checking most common words"
   ]
  },
  {
   "cell_type": "code",
   "execution_count": 373,
   "id": "aebd03f0-a82a-4e70-9d12-d46879636af0",
   "metadata": {},
   "outputs": [],
   "source": [
    "from collections import Counter\n",
    "count_all_words = Counter(all_words)\n",
    "count_word = count_all_words.most_common(10)"
   ]
  },
  {
   "cell_type": "code",
   "execution_count": 374,
   "id": "da0765ff-ead6-49c2-a552-89c344c79187",
   "metadata": {},
   "outputs": [],
   "source": [
    "word =[]\n",
    "count=[]\n",
    "for item in count_word:\n",
    "    word.append(item[0])\n",
    "    count.append(item[1])"
   ]
  },
  {
   "cell_type": "markdown",
   "id": "537f62f6-2385-4f9d-981e-c04b3b5c3f0b",
   "metadata": {},
   "source": [
    "## word Frequency visualization for top 10"
   ]
  },
  {
   "cell_type": "code",
   "execution_count": 375,
   "id": "2a8f8f3e-6257-4254-8c04-850cb1da523d",
   "metadata": {},
   "outputs": [
    {
     "data": {
      "image/png": "[encoded data removed]",
      "text/plain": [
       "<Figure size 1000x600 with 1 Axes>"
      ]
     },
     "metadata": {},
     "output_type": "display_data"
    }
   ],
   "source": [
    "plt.figure(figsize=(10, 6))\n",
    "plt.bar(word, count, color='skyblue')\n",
    "\n",
    "# Add labels and title\n",
    "plt.xlabel('Words')\n",
    "plt.ylabel('Counts')\n",
    "plt.title('Word Frequency Visualization')\n",
    "plt.xticks(rotation=45)\n",
    "\n",
    "# Show plot\n",
    "plt.tight_layout()\n",
    "plt.show()"
   ]
  },
  {
   "cell_type": "code",
   "execution_count": null,
   "id": "15995c5c-2378-4cdb-bb1e-be0f4d1f6ea0",
   "metadata": {},
   "outputs": [],
   "source": []
  },
  {
   "cell_type": "code",
   "execution_count": 376,
   "id": "2437739f-9f38-4253-b6cf-831dfe7b71a0",
   "metadata": {},
   "outputs": [],
   "source": [
    "import vaderSentiment\n",
    "# calling SentimentIntensityAnalyzer object\n",
    "from vaderSentiment.vaderSentiment import SentimentIntensityAnalyzer\n",
    "analyser = SentimentIntensityAnalyzer()"
   ]
  },
  {
   "cell_type": "code",
   "execution_count": 377,
   "id": "4d72bd14-b01d-4e4b-a355-794221f0c6d0",
   "metadata": {},
   "outputs": [],
   "source": [
    "def sentiment_analyzer_score(sentence):\n",
    "    score = analyser.polarity_scores(sentence)\n",
    "    print(\"{:-<40} {}\".format(sentence, str(score)))\n",
    "    return str(score)"
   ]
  },
  {
   "cell_type": "code",
   "execution_count": 378,
   "id": "85f262a9-6749-452a-82a2-732dc84c11ca",
   "metadata": {},
   "outputs": [
    {
     "data": {
      "text/html": [
       "<div>\n",
       "<style scoped>\n",
       "    .dataframe tbody tr th:only-of-type {\n",
       "        vertical-align: middle;\n",
       "    }\n",
       "\n",
       "    .dataframe tbody tr th {\n",
       "        vertical-align: top;\n",
       "    }\n",
       "\n",
       "    .dataframe thead th {\n",
       "        text-align: right;\n",
       "    }\n",
       "</style>\n",
       "<table border=\"1\" class=\"dataframe\">\n",
       "  <thead>\n",
       "    <tr style=\"text-align: right;\">\n",
       "      <th></th>\n",
       "      <th>cli_name</th>\n",
       "      <th>Subject</th>\n",
       "      <th>From</th>\n",
       "      <th>To</th>\n",
       "      <th>Text</th>\n",
       "      <th>preprocessed_Text</th>\n",
       "      <th>description_lengths</th>\n",
       "      <th>score</th>\n",
       "      <th>compound</th>\n",
       "      <th>Sentiment</th>\n",
       "    </tr>\n",
       "  </thead>\n",
       "  <tbody>\n",
       "    <tr>\n",
       "      <th>0</th>\n",
       "      <td>Giza Systems</td>\n",
       "      <td>RE Company Form 20 Adding Richard and Ehab Th...</td>\n",
       "      <td>Ahmed Hany</td>\n",
       "      <td>Salim salim</td>\n",
       "      <td>Adding Richard and Ehab</td>\n",
       "      <td>add</td>\n",
       "      <td>1</td>\n",
       "      <td>{'neg': 0.0, 'neu': 1.0, 'pos': 0.0, 'compound...</td>\n",
       "      <td>0.0000</td>\n",
       "      <td>Neutral</td>\n",
       "    </tr>\n",
       "    <tr>\n",
       "      <th>1</th>\n",
       "      <td>Giza Systems</td>\n",
       "      <td>RE Rejection of TCC</td>\n",
       "      <td>Ahmed Hany</td>\n",
       "      <td>Nanyonjo Jacinta</td>\n",
       "      <td>Dear Rita Kindly find attached</td>\n",
       "      <td>kindly find attach</td>\n",
       "      <td>3</td>\n",
       "      <td>{'neg': 0.0, 'neu': 0.385, 'pos': 0.615, 'comp...</td>\n",
       "      <td>0.4939</td>\n",
       "      <td>Satisfied</td>\n",
       "    </tr>\n",
       "    <tr>\n",
       "      <th>2</th>\n",
       "      <td>INDEPENDENT MEDICO LEGAL UNIT (IMLU)</td>\n",
       "      <td>Application for Income Tax Exemption Certificate</td>\n",
       "      <td>Carolyn Njange</td>\n",
       "      <td>Peter</td>\n",
       "      <td>Dear Mwangi This is fine with us</td>\n",
       "      <td>fine</td>\n",
       "      <td>1</td>\n",
       "      <td>{'neg': 0.0, 'neu': 0.0, 'pos': 1.0, 'compound...</td>\n",
       "      <td>0.2023</td>\n",
       "      <td>Satisfied</td>\n",
       "    </tr>\n",
       "    <tr>\n",
       "      <th>3</th>\n",
       "      <td>INDEPENDENT MEDICO LEGAL UNIT (IMLU)</td>\n",
       "      <td>Application for Income Tax Exemption Certificate</td>\n",
       "      <td>Carolyn Njange</td>\n",
       "      <td>Peter</td>\n",
       "      <td>Dear Carolyn Good evening Thank you for reachi...</td>\n",
       "      <td>thank reach propose meeting tomorrow 00am disc...</td>\n",
       "      <td>18</td>\n",
       "      <td>{'neg': 0.0, 'neu': 0.711, 'pos': 0.289, 'comp...</td>\n",
       "      <td>0.6249</td>\n",
       "      <td>Very Satisfied</td>\n",
       "    </tr>\n",
       "    <tr>\n",
       "      <th>4</th>\n",
       "      <td>INDEPENDENT MEDICO LEGAL UNIT (IMLU)</td>\n",
       "      <td>Application for Income Tax Exemption Certificate</td>\n",
       "      <td>Carolyn Njange</td>\n",
       "      <td>Peter</td>\n",
       "      <td>Dear Mwangi We spoke when Phoebe requested the...</td>\n",
       "      <td>speak phoebe request additional information pr...</td>\n",
       "      <td>24</td>\n",
       "      <td>{'neg': 0.068, 'neu': 0.533, 'pos': 0.399, 'co...</td>\n",
       "      <td>0.8807</td>\n",
       "      <td>Very Satisfied</td>\n",
       "    </tr>\n",
       "  </tbody>\n",
       "</table>\n",
       "</div>"
      ],
      "text/plain": [
       "                               cli_name  \\\n",
       "0                          Giza Systems   \n",
       "1                          Giza Systems   \n",
       "2  INDEPENDENT MEDICO LEGAL UNIT (IMLU)   \n",
       "3  INDEPENDENT MEDICO LEGAL UNIT (IMLU)   \n",
       "4  INDEPENDENT MEDICO LEGAL UNIT (IMLU)   \n",
       "\n",
       "                                             Subject            From  \\\n",
       "0   RE Company Form 20 Adding Richard and Ehab Th...      Ahmed Hany   \n",
       "1                                RE Rejection of TCC      Ahmed Hany   \n",
       "2   Application for Income Tax Exemption Certificate  Carolyn Njange   \n",
       "3   Application for Income Tax Exemption Certificate  Carolyn Njange   \n",
       "4   Application for Income Tax Exemption Certificate  Carolyn Njange   \n",
       "\n",
       "                 To                                               Text  \\\n",
       "0       Salim salim                            Adding Richard and Ehab   \n",
       "1  Nanyonjo Jacinta                     Dear Rita Kindly find attached   \n",
       "2             Peter                   Dear Mwangi This is fine with us   \n",
       "3             Peter  Dear Carolyn Good evening Thank you for reachi...   \n",
       "4             Peter  Dear Mwangi We spoke when Phoebe requested the...   \n",
       "\n",
       "                                   preprocessed_Text  description_lengths  \\\n",
       "0                                                add                    1   \n",
       "1                                 kindly find attach                    3   \n",
       "2                                               fine                    1   \n",
       "3  thank reach propose meeting tomorrow 00am disc...                   18   \n",
       "4  speak phoebe request additional information pr...                   24   \n",
       "\n",
       "                                               score  compound       Sentiment  \n",
       "0  {'neg': 0.0, 'neu': 1.0, 'pos': 0.0, 'compound...    0.0000         Neutral  \n",
       "1  {'neg': 0.0, 'neu': 0.385, 'pos': 0.615, 'comp...    0.4939       Satisfied  \n",
       "2  {'neg': 0.0, 'neu': 0.0, 'pos': 1.0, 'compound...    0.2023       Satisfied  \n",
       "3  {'neg': 0.0, 'neu': 0.711, 'pos': 0.289, 'comp...    0.6249  Very Satisfied  \n",
       "4  {'neg': 0.068, 'neu': 0.533, 'pos': 0.399, 'co...    0.8807  Very Satisfied  "
      ]
     },
     "execution_count": 378,
     "metadata": {},
     "output_type": "execute_result"
    }
   ],
   "source": [
    "df['score'] = df['preprocessed_Text'].apply(lambda review: analyser.polarity_scores(review))\n",
    "df.head()"
   ]
  },
  {
   "cell_type": "code",
   "execution_count": 355,
   "id": "c4ec2b2b-0c74-4eeb-9309-f83026e62faf",
   "metadata": {},
   "outputs": [
    {
     "data": {
      "text/html": [
       "<div>\n",
       "<style scoped>\n",
       "    .dataframe tbody tr th:only-of-type {\n",
       "        vertical-align: middle;\n",
       "    }\n",
       "\n",
       "    .dataframe tbody tr th {\n",
       "        vertical-align: top;\n",
       "    }\n",
       "\n",
       "    .dataframe thead th {\n",
       "        text-align: right;\n",
       "    }\n",
       "</style>\n",
       "<table border=\"1\" class=\"dataframe\">\n",
       "  <thead>\n",
       "    <tr style=\"text-align: right;\">\n",
       "      <th></th>\n",
       "      <th>cli_name</th>\n",
       "      <th>Subject</th>\n",
       "      <th>From</th>\n",
       "      <th>To</th>\n",
       "      <th>Text</th>\n",
       "      <th>preprocessed_Text</th>\n",
       "      <th>description_lengths</th>\n",
       "      <th>score</th>\n",
       "      <th>compound</th>\n",
       "    </tr>\n",
       "  </thead>\n",
       "  <tbody>\n",
       "    <tr>\n",
       "      <th>0</th>\n",
       "      <td>Giza Systems</td>\n",
       "      <td>RE Company Form 20 Adding Richard and Ehab Th...</td>\n",
       "      <td>Ahmed Hany</td>\n",
       "      <td>Salim salim</td>\n",
       "      <td>Adding Richard and Ehab</td>\n",
       "      <td>add</td>\n",
       "      <td>1</td>\n",
       "      <td>{'neg': 0.0, 'neu': 1.0, 'pos': 0.0, 'compound...</td>\n",
       "      <td>0.0000</td>\n",
       "    </tr>\n",
       "    <tr>\n",
       "      <th>1</th>\n",
       "      <td>Giza Systems</td>\n",
       "      <td>RE Rejection of TCC</td>\n",
       "      <td>Ahmed Hany</td>\n",
       "      <td>Nanyonjo Jacinta</td>\n",
       "      <td>Dear Rita Kindly find attached</td>\n",
       "      <td>kindly find attach</td>\n",
       "      <td>3</td>\n",
       "      <td>{'neg': 0.0, 'neu': 0.385, 'pos': 0.615, 'comp...</td>\n",
       "      <td>0.4939</td>\n",
       "    </tr>\n",
       "    <tr>\n",
       "      <th>2</th>\n",
       "      <td>INDEPENDENT MEDICO LEGAL UNIT (IMLU)</td>\n",
       "      <td>Application for Income Tax Exemption Certificate</td>\n",
       "      <td>Carolyn Njange</td>\n",
       "      <td>Peter</td>\n",
       "      <td>Dear Mwangi This is fine with us</td>\n",
       "      <td>fine</td>\n",
       "      <td>1</td>\n",
       "      <td>{'neg': 0.0, 'neu': 0.0, 'pos': 1.0, 'compound...</td>\n",
       "      <td>0.2023</td>\n",
       "    </tr>\n",
       "    <tr>\n",
       "      <th>3</th>\n",
       "      <td>INDEPENDENT MEDICO LEGAL UNIT (IMLU)</td>\n",
       "      <td>Application for Income Tax Exemption Certificate</td>\n",
       "      <td>Carolyn Njange</td>\n",
       "      <td>Peter</td>\n",
       "      <td>Dear Carolyn Good evening Thank you for reachi...</td>\n",
       "      <td>thank reach propose meeting tomorrow 00am disc...</td>\n",
       "      <td>18</td>\n",
       "      <td>{'neg': 0.0, 'neu': 0.711, 'pos': 0.289, 'comp...</td>\n",
       "      <td>0.6249</td>\n",
       "    </tr>\n",
       "    <tr>\n",
       "      <th>4</th>\n",
       "      <td>INDEPENDENT MEDICO LEGAL UNIT (IMLU)</td>\n",
       "      <td>Application for Income Tax Exemption Certificate</td>\n",
       "      <td>Carolyn Njange</td>\n",
       "      <td>Peter</td>\n",
       "      <td>Dear Mwangi We spoke when Phoebe requested the...</td>\n",
       "      <td>speak phoebe request additional information pr...</td>\n",
       "      <td>24</td>\n",
       "      <td>{'neg': 0.068, 'neu': 0.533, 'pos': 0.399, 'co...</td>\n",
       "      <td>0.8807</td>\n",
       "    </tr>\n",
       "  </tbody>\n",
       "</table>\n",
       "</div>"
      ],
      "text/plain": [
       "                               cli_name  \\\n",
       "0                          Giza Systems   \n",
       "1                          Giza Systems   \n",
       "2  INDEPENDENT MEDICO LEGAL UNIT (IMLU)   \n",
       "3  INDEPENDENT MEDICO LEGAL UNIT (IMLU)   \n",
       "4  INDEPENDENT MEDICO LEGAL UNIT (IMLU)   \n",
       "\n",
       "                                             Subject            From  \\\n",
       "0   RE Company Form 20 Adding Richard and Ehab Th...      Ahmed Hany   \n",
       "1                                RE Rejection of TCC      Ahmed Hany   \n",
       "2   Application for Income Tax Exemption Certificate  Carolyn Njange   \n",
       "3   Application for Income Tax Exemption Certificate  Carolyn Njange   \n",
       "4   Application for Income Tax Exemption Certificate  Carolyn Njange   \n",
       "\n",
       "                 To                                               Text  \\\n",
       "0       Salim salim                            Adding Richard and Ehab   \n",
       "1  Nanyonjo Jacinta                     Dear Rita Kindly find attached   \n",
       "2             Peter                   Dear Mwangi This is fine with us   \n",
       "3             Peter  Dear Carolyn Good evening Thank you for reachi...   \n",
       "4             Peter  Dear Mwangi We spoke when Phoebe requested the...   \n",
       "\n",
       "                                   preprocessed_Text  description_lengths  \\\n",
       "0                                                add                    1   \n",
       "1                                 kindly find attach                    3   \n",
       "2                                               fine                    1   \n",
       "3  thank reach propose meeting tomorrow 00am disc...                   18   \n",
       "4  speak phoebe request additional information pr...                   24   \n",
       "\n",
       "                                               score  compound  \n",
       "0  {'neg': 0.0, 'neu': 1.0, 'pos': 0.0, 'compound...    0.0000  \n",
       "1  {'neg': 0.0, 'neu': 0.385, 'pos': 0.615, 'comp...    0.4939  \n",
       "2  {'neg': 0.0, 'neu': 0.0, 'pos': 1.0, 'compound...    0.2023  \n",
       "3  {'neg': 0.0, 'neu': 0.711, 'pos': 0.289, 'comp...    0.6249  \n",
       "4  {'neg': 0.068, 'neu': 0.533, 'pos': 0.399, 'co...    0.8807  "
      ]
     },
     "execution_count": 355,
     "metadata": {},
     "output_type": "execute_result"
    }
   ],
   "source": [
    "df['compound']  = df['score'].apply(lambda score_dict: score_dict['compound'])\n",
    "df.head()"
   ]
  },
  {
   "cell_type": "code",
   "execution_count": 379,
   "id": "b9d6931a-757d-4544-92f0-89dbd0e53e69",
   "metadata": {},
   "outputs": [
    {
     "data": {
      "text/html": [
       "<div>\n",
       "<style scoped>\n",
       "    .dataframe tbody tr th:only-of-type {\n",
       "        vertical-align: middle;\n",
       "    }\n",
       "\n",
       "    .dataframe tbody tr th {\n",
       "        vertical-align: top;\n",
       "    }\n",
       "\n",
       "    .dataframe thead th {\n",
       "        text-align: right;\n",
       "    }\n",
       "</style>\n",
       "<table border=\"1\" class=\"dataframe\">\n",
       "  <thead>\n",
       "    <tr style=\"text-align: right;\">\n",
       "      <th></th>\n",
       "      <th>cli_name</th>\n",
       "      <th>Subject</th>\n",
       "      <th>From</th>\n",
       "      <th>To</th>\n",
       "      <th>Text</th>\n",
       "      <th>preprocessed_Text</th>\n",
       "      <th>description_lengths</th>\n",
       "      <th>score</th>\n",
       "      <th>compound</th>\n",
       "      <th>Sentiment</th>\n",
       "    </tr>\n",
       "  </thead>\n",
       "  <tbody>\n",
       "    <tr>\n",
       "      <th>0</th>\n",
       "      <td>Giza Systems</td>\n",
       "      <td>RE Company Form 20 Adding Richard and Ehab Th...</td>\n",
       "      <td>Ahmed Hany</td>\n",
       "      <td>Salim salim</td>\n",
       "      <td>Adding Richard and Ehab</td>\n",
       "      <td>add</td>\n",
       "      <td>1</td>\n",
       "      <td>{'neg': 0.0, 'neu': 1.0, 'pos': 0.0, 'compound...</td>\n",
       "      <td>0.0000</td>\n",
       "      <td>Neutral</td>\n",
       "    </tr>\n",
       "    <tr>\n",
       "      <th>1</th>\n",
       "      <td>Giza Systems</td>\n",
       "      <td>RE Rejection of TCC</td>\n",
       "      <td>Ahmed Hany</td>\n",
       "      <td>Nanyonjo Jacinta</td>\n",
       "      <td>Dear Rita Kindly find attached</td>\n",
       "      <td>kindly find attach</td>\n",
       "      <td>3</td>\n",
       "      <td>{'neg': 0.0, 'neu': 0.385, 'pos': 0.615, 'comp...</td>\n",
       "      <td>0.4939</td>\n",
       "      <td>Satisfied</td>\n",
       "    </tr>\n",
       "    <tr>\n",
       "      <th>2</th>\n",
       "      <td>INDEPENDENT MEDICO LEGAL UNIT (IMLU)</td>\n",
       "      <td>Application for Income Tax Exemption Certificate</td>\n",
       "      <td>Carolyn Njange</td>\n",
       "      <td>Peter</td>\n",
       "      <td>Dear Mwangi This is fine with us</td>\n",
       "      <td>fine</td>\n",
       "      <td>1</td>\n",
       "      <td>{'neg': 0.0, 'neu': 0.0, 'pos': 1.0, 'compound...</td>\n",
       "      <td>0.2023</td>\n",
       "      <td>Satisfied</td>\n",
       "    </tr>\n",
       "    <tr>\n",
       "      <th>3</th>\n",
       "      <td>INDEPENDENT MEDICO LEGAL UNIT (IMLU)</td>\n",
       "      <td>Application for Income Tax Exemption Certificate</td>\n",
       "      <td>Carolyn Njange</td>\n",
       "      <td>Peter</td>\n",
       "      <td>Dear Carolyn Good evening Thank you for reachi...</td>\n",
       "      <td>thank reach propose meeting tomorrow 00am disc...</td>\n",
       "      <td>18</td>\n",
       "      <td>{'neg': 0.0, 'neu': 0.711, 'pos': 0.289, 'comp...</td>\n",
       "      <td>0.6249</td>\n",
       "      <td>Very Satisfied</td>\n",
       "    </tr>\n",
       "    <tr>\n",
       "      <th>4</th>\n",
       "      <td>INDEPENDENT MEDICO LEGAL UNIT (IMLU)</td>\n",
       "      <td>Application for Income Tax Exemption Certificate</td>\n",
       "      <td>Carolyn Njange</td>\n",
       "      <td>Peter</td>\n",
       "      <td>Dear Mwangi We spoke when Phoebe requested the...</td>\n",
       "      <td>speak phoebe request additional information pr...</td>\n",
       "      <td>24</td>\n",
       "      <td>{'neg': 0.068, 'neu': 0.533, 'pos': 0.399, 'co...</td>\n",
       "      <td>0.8807</td>\n",
       "      <td>Very Satisfied</td>\n",
       "    </tr>\n",
       "    <tr>\n",
       "      <th>...</th>\n",
       "      <td>...</td>\n",
       "      <td>...</td>\n",
       "      <td>...</td>\n",
       "      <td>...</td>\n",
       "      <td>...</td>\n",
       "      <td>...</td>\n",
       "      <td>...</td>\n",
       "      <td>...</td>\n",
       "      <td>...</td>\n",
       "      <td>...</td>\n",
       "    </tr>\n",
       "    <tr>\n",
       "      <th>104</th>\n",
       "      <td>Snetor East Africa Limited</td>\n",
       "      <td>Fw REQUEST FOR INFORMATION</td>\n",
       "      <td>Shiraz Rehmanji</td>\n",
       "      <td>REHMANJI s</td>\n",
       "      <td>Good Afternoon I hope this finds you well plea...</td>\n",
       "      <td>hope find provide certify copy record list pro...</td>\n",
       "      <td>10</td>\n",
       "      <td>{'neg': 0.0, 'neu': 0.588, 'pos': 0.412, 'comp...</td>\n",
       "      <td>0.6808</td>\n",
       "      <td>Very Satisfied</td>\n",
       "    </tr>\n",
       "    <tr>\n",
       "      <th>105</th>\n",
       "      <td>Snetor East Africa Limited</td>\n",
       "      <td>Fw REQUEST FOR INFORMATION</td>\n",
       "      <td>Shiraz Rehmanji</td>\n",
       "      <td>REHMANJI s</td>\n",
       "      <td>Good Afternoon I hope this finds you well plea...</td>\n",
       "      <td>hope find provide certify copy record list pro...</td>\n",
       "      <td>10</td>\n",
       "      <td>{'neg': 0.0, 'neu': 0.588, 'pos': 0.412, 'comp...</td>\n",
       "      <td>0.6808</td>\n",
       "      <td>Very Satisfied</td>\n",
       "    </tr>\n",
       "    <tr>\n",
       "      <th>106</th>\n",
       "      <td>Snetor East Africa Limited</td>\n",
       "      <td>Fw REQUEST FOR INFORMATION</td>\n",
       "      <td>Shiraz Rehmanji</td>\n",
       "      <td>REHMANJI s</td>\n",
       "      <td>Good Afternoon I hope this finds you well plea...</td>\n",
       "      <td>hope find provide certify copy record list pro...</td>\n",
       "      <td>10</td>\n",
       "      <td>{'neg': 0.0, 'neu': 0.588, 'pos': 0.412, 'comp...</td>\n",
       "      <td>0.6808</td>\n",
       "      <td>Very Satisfied</td>\n",
       "    </tr>\n",
       "    <tr>\n",
       "      <th>107</th>\n",
       "      <td>Snetor East Africa Limited</td>\n",
       "      <td>Fw REQUEST FOR INFORMATION</td>\n",
       "      <td>Shiraz Rehmanji</td>\n",
       "      <td>REHMANJI s</td>\n",
       "      <td>Good Afternoon I hope this finds you well plea...</td>\n",
       "      <td>hope find provide certify copy record list pro...</td>\n",
       "      <td>10</td>\n",
       "      <td>{'neg': 0.0, 'neu': 0.588, 'pos': 0.412, 'comp...</td>\n",
       "      <td>0.6808</td>\n",
       "      <td>Very Satisfied</td>\n",
       "    </tr>\n",
       "    <tr>\n",
       "      <th>108</th>\n",
       "      <td>Snetor East Africa Limited</td>\n",
       "      <td>Fw REQUEST FOR INFORMATION</td>\n",
       "      <td>Shiraz Rehmanji</td>\n",
       "      <td>REHMANJI s</td>\n",
       "      <td>Good Afternoon I hope this finds you well plea...</td>\n",
       "      <td>hope find provide certify copy record list pro...</td>\n",
       "      <td>10</td>\n",
       "      <td>{'neg': 0.0, 'neu': 0.588, 'pos': 0.412, 'comp...</td>\n",
       "      <td>0.6808</td>\n",
       "      <td>Very Satisfied</td>\n",
       "    </tr>\n",
       "  </tbody>\n",
       "</table>\n",
       "<p>108 rows × 10 columns</p>\n",
       "</div>"
      ],
      "text/plain": [
       "                                 cli_name  \\\n",
       "0                            Giza Systems   \n",
       "1                            Giza Systems   \n",
       "2    INDEPENDENT MEDICO LEGAL UNIT (IMLU)   \n",
       "3    INDEPENDENT MEDICO LEGAL UNIT (IMLU)   \n",
       "4    INDEPENDENT MEDICO LEGAL UNIT (IMLU)   \n",
       "..                                    ...   \n",
       "104            Snetor East Africa Limited   \n",
       "105            Snetor East Africa Limited   \n",
       "106            Snetor East Africa Limited   \n",
       "107            Snetor East Africa Limited   \n",
       "108            Snetor East Africa Limited   \n",
       "\n",
       "                                               Subject             From  \\\n",
       "0     RE Company Form 20 Adding Richard and Ehab Th...       Ahmed Hany   \n",
       "1                                  RE Rejection of TCC       Ahmed Hany   \n",
       "2     Application for Income Tax Exemption Certificate   Carolyn Njange   \n",
       "3     Application for Income Tax Exemption Certificate   Carolyn Njange   \n",
       "4     Application for Income Tax Exemption Certificate   Carolyn Njange   \n",
       "..                                                 ...              ...   \n",
       "104                         Fw REQUEST FOR INFORMATION  Shiraz Rehmanji   \n",
       "105                         Fw REQUEST FOR INFORMATION  Shiraz Rehmanji   \n",
       "106                         Fw REQUEST FOR INFORMATION  Shiraz Rehmanji   \n",
       "107                         Fw REQUEST FOR INFORMATION  Shiraz Rehmanji   \n",
       "108                         Fw REQUEST FOR INFORMATION  Shiraz Rehmanji   \n",
       "\n",
       "                   To                                               Text  \\\n",
       "0         Salim salim                            Adding Richard and Ehab   \n",
       "1    Nanyonjo Jacinta                     Dear Rita Kindly find attached   \n",
       "2               Peter                   Dear Mwangi This is fine with us   \n",
       "3               Peter  Dear Carolyn Good evening Thank you for reachi...   \n",
       "4               Peter  Dear Mwangi We spoke when Phoebe requested the...   \n",
       "..                ...                                                ...   \n",
       "104        REHMANJI s  Good Afternoon I hope this finds you well plea...   \n",
       "105        REHMANJI s  Good Afternoon I hope this finds you well plea...   \n",
       "106        REHMANJI s  Good Afternoon I hope this finds you well plea...   \n",
       "107        REHMANJI s  Good Afternoon I hope this finds you well plea...   \n",
       "108        REHMANJI s  Good Afternoon I hope this finds you well plea...   \n",
       "\n",
       "                                     preprocessed_Text  description_lengths  \\\n",
       "0                                                  add                    1   \n",
       "1                                   kindly find attach                    3   \n",
       "2                                                 fine                    1   \n",
       "3    thank reach propose meeting tomorrow 00am disc...                   18   \n",
       "4    speak phoebe request additional information pr...                   24   \n",
       "..                                                 ...                  ...   \n",
       "104  hope find provide certify copy record list pro...                   10   \n",
       "105  hope find provide certify copy record list pro...                   10   \n",
       "106  hope find provide certify copy record list pro...                   10   \n",
       "107  hope find provide certify copy record list pro...                   10   \n",
       "108  hope find provide certify copy record list pro...                   10   \n",
       "\n",
       "                                                 score  compound  \\\n",
       "0    {'neg': 0.0, 'neu': 1.0, 'pos': 0.0, 'compound...    0.0000   \n",
       "1    {'neg': 0.0, 'neu': 0.385, 'pos': 0.615, 'comp...    0.4939   \n",
       "2    {'neg': 0.0, 'neu': 0.0, 'pos': 1.0, 'compound...    0.2023   \n",
       "3    {'neg': 0.0, 'neu': 0.711, 'pos': 0.289, 'comp...    0.6249   \n",
       "4    {'neg': 0.068, 'neu': 0.533, 'pos': 0.399, 'co...    0.8807   \n",
       "..                                                 ...       ...   \n",
       "104  {'neg': 0.0, 'neu': 0.588, 'pos': 0.412, 'comp...    0.6808   \n",
       "105  {'neg': 0.0, 'neu': 0.588, 'pos': 0.412, 'comp...    0.6808   \n",
       "106  {'neg': 0.0, 'neu': 0.588, 'pos': 0.412, 'comp...    0.6808   \n",
       "107  {'neg': 0.0, 'neu': 0.588, 'pos': 0.412, 'comp...    0.6808   \n",
       "108  {'neg': 0.0, 'neu': 0.588, 'pos': 0.412, 'comp...    0.6808   \n",
       "\n",
       "          Sentiment  \n",
       "0           Neutral  \n",
       "1         Satisfied  \n",
       "2         Satisfied  \n",
       "3    Very Satisfied  \n",
       "4    Very Satisfied  \n",
       "..              ...  \n",
       "104  Very Satisfied  \n",
       "105  Very Satisfied  \n",
       "106  Very Satisfied  \n",
       "107  Very Satisfied  \n",
       "108  Very Satisfied  \n",
       "\n",
       "[108 rows x 10 columns]"
      ]
     },
     "execution_count": 379,
     "metadata": {},
     "output_type": "execute_result"
    }
   ],
   "source": [
    "def Sentimnt(x):\n",
    "    if x <= -0.6:\n",
    "        return 'Very Unsatisfied'\n",
    "    elif x <= -0.2:\n",
    "        return 'Unsatisfied'\n",
    "    elif x <= 0.2:\n",
    "        return 'Neutral'\n",
    "    elif x <= 0.6:\n",
    "        return 'Satisfied'\n",
    "    else:\n",
    "        return 'Very Satisfied'\n",
    "#df['Sentiment'] = df['compound'].apply(lambda c: 'positive' if c >=0.00  else 'negative')\n",
    "df['Sentiment'] = df['compound'].apply(Sentimnt)\n",
    "df"
   ]
  },
  {
   "cell_type": "code",
   "execution_count": 380,
   "id": "c6f13ad1-8efb-4767-9d06-424c17a2d4af",
   "metadata": {},
   "outputs": [],
   "source": [
    "df.to_csv('csv_for_new_di.csv')"
   ]
  },
  {
   "cell_type": "code",
   "execution_count": null,
   "id": "549b058d-22b5-4bb0-828d-b81a8f6fdb2e",
   "metadata": {
    "scrolled": true
   },
   "outputs": [],
   "source": []
  },
  {
   "cell_type": "code",
   "execution_count": 381,
   "id": "3f4cadc8-f8ba-459a-826d-e02f2ceb4d5e",
   "metadata": {},
   "outputs": [
    {
     "data": {
      "text/plain": [
       "array([[<Axes: title={'center': 'compound'}>]], dtype=object)"
      ]
     },
     "execution_count": 381,
     "metadata": {},
     "output_type": "execute_result"
    },
    {
     "data": {
      "image/png": "[encoded data removed]",
      "text/plain": [
       "<Figure size 640x480 with 1 Axes>"
      ]
     },
     "metadata": {},
     "output_type": "display_data"
    }
   ],
   "source": [
    "df.hist(['compound'])"
   ]
  },
  {
   "cell_type": "code",
   "execution_count": 303,
   "id": "1aea5911-53ba-480a-82ed-5d5d272acc75",
   "metadata": {},
   "outputs": [],
   "source": []
  },
  {
   "cell_type": "code",
   "execution_count": null,
   "id": "e859878e-ae1f-415e-8ce0-dcee19da6151",
   "metadata": {},
   "outputs": [],
   "source": []
  },
  {
   "cell_type": "code",
   "execution_count": 359,
   "id": "96cca6bc-0896-43b6-8e8e-808791c6d6ef",
   "metadata": {},
   "outputs": [
    {
     "data": {
      "text/html": [
       "<div>\n",
       "<style scoped>\n",
       "    .dataframe tbody tr th:only-of-type {\n",
       "        vertical-align: middle;\n",
       "    }\n",
       "\n",
       "    .dataframe tbody tr th {\n",
       "        vertical-align: top;\n",
       "    }\n",
       "\n",
       "    .dataframe thead th {\n",
       "        text-align: right;\n",
       "    }\n",
       "</style>\n",
       "<table border=\"1\" class=\"dataframe\">\n",
       "  <thead>\n",
       "    <tr style=\"text-align: right;\">\n",
       "      <th></th>\n",
       "      <th>cli_name</th>\n",
       "      <th>Text</th>\n",
       "      <th>preprocessed_Text</th>\n",
       "      <th>score</th>\n",
       "      <th>compound</th>\n",
       "      <th>Sentiment</th>\n",
       "    </tr>\n",
       "  </thead>\n",
       "  <tbody>\n",
       "    <tr>\n",
       "      <th>32</th>\n",
       "      <td>School Operators Ltd</td>\n",
       "      <td>Please appreciate that the TCC has expired e E...</td>\n",
       "      <td>appreciate tcc expire</td>\n",
       "      <td>{'neg': 0.0, 'neu': 0.426, 'pos': 0.574, 'comp...</td>\n",
       "      <td>0.4019</td>\n",
       "      <td>Satisfied</td>\n",
       "    </tr>\n",
       "    <tr>\n",
       "      <th>33</th>\n",
       "      <td>School Operators Ltd</td>\n",
       "      <td>Dear Henry Exactly where are we on this We got...</td>\n",
       "      <td>exactly get load new work permit apply number</td>\n",
       "      <td>{'neg': 0.0, 'neu': 0.843, 'pos': 0.157, 'comp...</td>\n",
       "      <td>0.0772</td>\n",
       "      <td>Neutral</td>\n",
       "    </tr>\n",
       "    <tr>\n",
       "      <th>34</th>\n",
       "      <td>School Operators Ltd</td>\n",
       "      <td>Please appreciate we have been at it for 3 yea...</td>\n",
       "      <td>appreciate year</td>\n",
       "      <td>{'neg': 0.0, 'neu': 0.27, 'pos': 0.73, 'compou...</td>\n",
       "      <td>0.4019</td>\n",
       "      <td>Satisfied</td>\n",
       "    </tr>\n",
       "    <tr>\n",
       "      <th>35</th>\n",
       "      <td>School Operators Ltd</td>\n",
       "      <td>Dear Henry We spoke about this issue a few wee...</td>\n",
       "      <td>speak issue week ago kindly update shortly nee...</td>\n",
       "      <td>{'neg': 0.154, 'neu': 0.641, 'pos': 0.205, 'co...</td>\n",
       "      <td>0.0516</td>\n",
       "      <td>Neutral</td>\n",
       "    </tr>\n",
       "    <tr>\n",
       "      <th>36</th>\n",
       "      <td>School Operators Ltd</td>\n",
       "      <td>Dear Clifford Long time You recall we met in m...</td>\n",
       "      <td>long time recall meet office early year notice...</td>\n",
       "      <td>{'neg': 0.059, 'neu': 0.829, 'pos': 0.112, 'co...</td>\n",
       "      <td>0.2732</td>\n",
       "      <td>Satisfied</td>\n",
       "    </tr>\n",
       "    <tr>\n",
       "      <th>...</th>\n",
       "      <td>...</td>\n",
       "      <td>...</td>\n",
       "      <td>...</td>\n",
       "      <td>...</td>\n",
       "      <td>...</td>\n",
       "      <td>...</td>\n",
       "    </tr>\n",
       "    <tr>\n",
       "      <th>99</th>\n",
       "      <td>School Operators Ltd</td>\n",
       "      <td>No don t agree Just Call tomorrow to discuss E...</td>\n",
       "      <td>don t agree tomorrow discuss</td>\n",
       "      <td>{'neg': 0.0, 'neu': 0.615, 'pos': 0.385, 'comp...</td>\n",
       "      <td>0.3612</td>\n",
       "      <td>Satisfied</td>\n",
       "    </tr>\n",
       "    <tr>\n",
       "      <th>100</th>\n",
       "      <td>School Operators Ltd</td>\n",
       "      <td>Ernest</td>\n",
       "      <td></td>\n",
       "      <td>{'neg': 0.0, 'neu': 0.0, 'pos': 0.0, 'compound...</td>\n",
       "      <td>0.0000</td>\n",
       "      <td>Neutral</td>\n",
       "    </tr>\n",
       "    <tr>\n",
       "      <th>101</th>\n",
       "      <td>School Operators Ltd</td>\n",
       "      <td>Dear Charlotte My apologies for this belated r...</td>\n",
       "      <td>apology belate response accounts ok retain ear...</td>\n",
       "      <td>{'neg': 0.0, 'neu': 0.613, 'pos': 0.387, 'comp...</td>\n",
       "      <td>0.8750</td>\n",
       "      <td>Very Satisfied</td>\n",
       "    </tr>\n",
       "    <tr>\n",
       "      <th>102</th>\n",
       "      <td>School Operators Ltd</td>\n",
       "      <td>MW Can you resolve this without fail I don t w...</td>\n",
       "      <td>mw resolve fail don t want reminder</td>\n",
       "      <td>{'neg': 0.307, 'neu': 0.351, 'pos': 0.342, 'co...</td>\n",
       "      <td>-0.1531</td>\n",
       "      <td>Neutral</td>\n",
       "    </tr>\n",
       "    <tr>\n",
       "      <th>103</th>\n",
       "      <td>School Operators Ltd</td>\n",
       "      <td>MM Please sort out this irritating balance e</td>\n",
       "      <td>mm sort irritate balance</td>\n",
       "      <td>{'neg': 0.483, 'neu': 0.517, 'pos': 0.0, 'comp...</td>\n",
       "      <td>-0.4215</td>\n",
       "      <td>Unsatisfied</td>\n",
       "    </tr>\n",
       "  </tbody>\n",
       "</table>\n",
       "<p>71 rows × 6 columns</p>\n",
       "</div>"
      ],
      "text/plain": [
       "                 cli_name                                               Text  \\\n",
       "32   School Operators Ltd  Please appreciate that the TCC has expired e E...   \n",
       "33   School Operators Ltd  Dear Henry Exactly where are we on this We got...   \n",
       "34   School Operators Ltd  Please appreciate we have been at it for 3 yea...   \n",
       "35   School Operators Ltd  Dear Henry We spoke about this issue a few wee...   \n",
       "36   School Operators Ltd  Dear Clifford Long time You recall we met in m...   \n",
       "..                    ...                                                ...   \n",
       "99   School Operators Ltd  No don t agree Just Call tomorrow to discuss E...   \n",
       "100  School Operators Ltd                                             Ernest   \n",
       "101  School Operators Ltd  Dear Charlotte My apologies for this belated r...   \n",
       "102  School Operators Ltd  MW Can you resolve this without fail I don t w...   \n",
       "103  School Operators Ltd       MM Please sort out this irritating balance e   \n",
       "\n",
       "                                     preprocessed_Text  \\\n",
       "32                               appreciate tcc expire   \n",
       "33       exactly get load new work permit apply number   \n",
       "34                                     appreciate year   \n",
       "35   speak issue week ago kindly update shortly nee...   \n",
       "36   long time recall meet office early year notice...   \n",
       "..                                                 ...   \n",
       "99                        don t agree tomorrow discuss   \n",
       "100                                                      \n",
       "101  apology belate response accounts ok retain ear...   \n",
       "102                mw resolve fail don t want reminder   \n",
       "103                           mm sort irritate balance   \n",
       "\n",
       "                                                 score  compound  \\\n",
       "32   {'neg': 0.0, 'neu': 0.426, 'pos': 0.574, 'comp...    0.4019   \n",
       "33   {'neg': 0.0, 'neu': 0.843, 'pos': 0.157, 'comp...    0.0772   \n",
       "34   {'neg': 0.0, 'neu': 0.27, 'pos': 0.73, 'compou...    0.4019   \n",
       "35   {'neg': 0.154, 'neu': 0.641, 'pos': 0.205, 'co...    0.0516   \n",
       "36   {'neg': 0.059, 'neu': 0.829, 'pos': 0.112, 'co...    0.2732   \n",
       "..                                                 ...       ...   \n",
       "99   {'neg': 0.0, 'neu': 0.615, 'pos': 0.385, 'comp...    0.3612   \n",
       "100  {'neg': 0.0, 'neu': 0.0, 'pos': 0.0, 'compound...    0.0000   \n",
       "101  {'neg': 0.0, 'neu': 0.613, 'pos': 0.387, 'comp...    0.8750   \n",
       "102  {'neg': 0.307, 'neu': 0.351, 'pos': 0.342, 'co...   -0.1531   \n",
       "103  {'neg': 0.483, 'neu': 0.517, 'pos': 0.0, 'comp...   -0.4215   \n",
       "\n",
       "          Sentiment  \n",
       "32        Satisfied  \n",
       "33          Neutral  \n",
       "34        Satisfied  \n",
       "35          Neutral  \n",
       "36        Satisfied  \n",
       "..              ...  \n",
       "99        Satisfied  \n",
       "100         Neutral  \n",
       "101  Very Satisfied  \n",
       "102         Neutral  \n",
       "103     Unsatisfied  \n",
       "\n",
       "[71 rows x 6 columns]"
      ]
     },
     "execution_count": 359,
     "metadata": {},
     "output_type": "execute_result"
    }
   ],
   "source": [
    "newdf[['cli_name','Text','preprocessed_Text','score','compound','Sentiment']]"
   ]
  },
  {
   "cell_type": "code",
   "execution_count": 40,
   "id": "c43ed720-3e04-4e20-87a0-a978550d4274",
   "metadata": {},
   "outputs": [],
   "source": [
    "newdf.reset_index(inplace=True)"
   ]
  },
  {
   "cell_type": "code",
   "execution_count": 44,
   "id": "95dc2974-0262-4bf6-96a9-b628a7b2e25d",
   "metadata": {},
   "outputs": [
    {
     "data": {
      "text/plain": [
       "'speak issue week ago kindly update shortly need renew sol tcc shortly know emotional rage go year let revisit rgds bursar disclaimer information contain mail thereto privileged confidential intend recipient review dissemination use transmission content strictly prohibit kindly notify sender promptly return delete message immediately institution sender accept liability whatsoever loss damage incur suffer result arise use'"
      ]
     },
     "execution_count": 44,
     "metadata": {},
     "output_type": "execute_result"
    }
   ],
   "source": [
    "newdf['preprocessed_Text'][3]"
   ]
  },
  {
   "cell_type": "code",
   "execution_count": 382,
   "id": "286f6b4b-8f85-40c8-a071-2dbc6d8457a6",
   "metadata": {},
   "outputs": [
    {
     "data": {
      "application/vnd.plotly.v1+json": {
       "config": {
        "plotlyServerURL": "https://plot.ly"
       },
       "data": [
        {
         "text": [
          "Neutral",
          "Satisfied",
          "Very Satisfied",
          "Unsatisfied"
         ],
         "title": {
          "position": "top center",
          "text": "Sentiment Distribution"
         },
         "type": "funnelarea",
         "values": [
          40,
          32,
          32,
          4
         ]
        }
       ],
       "layout": {
        "autosize": true,
        "template": {
         "data": {
          "bar": [
           {
            "error_x": {
             "color": "#2a3f5f"
            },
            "error_y": {
             "color": "#2a3f5f"
            },
            "marker": {
             "line": {
              "color": "#E5ECF6",
              "width": 0.5
             },
             "pattern": {
              "fillmode": "overlay",
              "size": 10,
              "solidity": 0.2
             }
            },
            "type": "bar"
           }
          ],
          "barpolar": [
           {
            "marker": {
             "line": {
              "color": "#E5ECF6",
              "width": 0.5
             },
             "pattern": {
              "fillmode": "overlay",
              "size": 10,
              "solidity": 0.2
             }
            },
            "type": "barpolar"
           }
          ],
          "carpet": [
           {
            "aaxis": {
             "endlinecolor": "#2a3f5f",
             "gridcolor": "white",
             "linecolor": "white",
             "minorgridcolor": "white",
             "startlinecolor": "#2a3f5f"
            },
            "baxis": {
             "endlinecolor": "#2a3f5f",
             "gridcolor": "white",
             "linecolor": "white",
             "minorgridcolor": "white",
             "startlinecolor": "#2a3f5f"
            },
            "type": "carpet"
           }
          ],
          "choropleth": [
           {
            "colorbar": {
             "outlinewidth": 0,
             "ticks": ""
            },
            "type": "choropleth"
           }
          ],
          "contour": [
           {
            "colorbar": {
             "outlinewidth": 0,
             "ticks": ""
            },
            "colorscale": [
             [
              0,
              "#0d0887"
             ],
             [
              0.1111111111111111,
              "#46039f"
             ],
             [
              0.2222222222222222,
              "#7201a8"
             ],
             [
              0.3333333333333333,
              "#9c179e"
             ],
             [
              0.4444444444444444,
              "#bd3786"
             ],
             [
              0.5555555555555556,
              "#d8576b"
             ],
             [
              0.6666666666666666,
              "#ed7953"
             ],
             [
              0.7777777777777778,
              "#fb9f3a"
             ],
             [
              0.8888888888888888,
              "#fdca26"
             ],
             [
              1,
              "#f0f921"
             ]
            ],
            "type": "contour"
           }
          ],
          "contourcarpet": [
           {
            "colorbar": {
             "outlinewidth": 0,
             "ticks": ""
            },
            "type": "contourcarpet"
           }
          ],
          "heatmap": [
           {
            "colorbar": {
             "outlinewidth": 0,
             "ticks": ""
            },
            "colorscale": [
             [
              0,
              "#0d0887"
             ],
             [
              0.1111111111111111,
              "#46039f"
             ],
             [
              0.2222222222222222,
              "#7201a8"
             ],
             [
              0.3333333333333333,
              "#9c179e"
             ],
             [
              0.4444444444444444,
              "#bd3786"
             ],
             [
              0.5555555555555556,
              "#d8576b"
             ],
             [
              0.6666666666666666,
              "#ed7953"
             ],
             [
              0.7777777777777778,
              "#fb9f3a"
             ],
             [
              0.8888888888888888,
              "#fdca26"
             ],
             [
              1,
              "#f0f921"
             ]
            ],
            "type": "heatmap"
           }
          ],
          "heatmapgl": [
           {
            "colorbar": {
             "outlinewidth": 0,
             "ticks": ""
            },
            "colorscale": [
             [
              0,
              "#0d0887"
             ],
             [
              0.1111111111111111,
              "#46039f"
             ],
             [
              0.2222222222222222,
              "#7201a8"
             ],
             [
              0.3333333333333333,
              "#9c179e"
             ],
             [
              0.4444444444444444,
              "#bd3786"
             ],
             [
              0.5555555555555556,
              "#d8576b"
             ],
             [
              0.6666666666666666,
              "#ed7953"
             ],
             [
              0.7777777777777778,
              "#fb9f3a"
             ],
             [
              0.8888888888888888,
              "#fdca26"
             ],
             [
              1,
              "#f0f921"
             ]
            ],
            "type": "heatmapgl"
           }
          ],
          "histogram": [
           {
            "marker": {
             "pattern": {
              "fillmode": "overlay",
              "size": 10,
              "solidity": 0.2
             }
            },
            "type": "histogram"
           }
          ],
          "histogram2d": [
           {
            "colorbar": {
             "outlinewidth": 0,
             "ticks": ""
            },
            "colorscale": [
             [
              0,
              "#0d0887"
             ],
             [
              0.1111111111111111,
              "#46039f"
             ],
             [
              0.2222222222222222,
              "#7201a8"
             ],
             [
              0.3333333333333333,
              "#9c179e"
             ],
             [
              0.4444444444444444,
              "#bd3786"
             ],
             [
              0.5555555555555556,
              "#d8576b"
             ],
             [
              0.6666666666666666,
              "#ed7953"
             ],
             [
              0.7777777777777778,
              "#fb9f3a"
             ],
             [
              0.8888888888888888,
              "#fdca26"
             ],
             [
              1,
              "#f0f921"
             ]
            ],
            "type": "histogram2d"
           }
          ],
          "histogram2dcontour": [
           {
            "colorbar": {
             "outlinewidth": 0,
             "ticks": ""
            },
            "colorscale": [
             [
              0,
              "#0d0887"
             ],
             [
              0.1111111111111111,
              "#46039f"
             ],
             [
              0.2222222222222222,
              "#7201a8"
             ],
             [
              0.3333333333333333,
              "#9c179e"
             ],
             [
              0.4444444444444444,
              "#bd3786"
             ],
             [
              0.5555555555555556,
              "#d8576b"
             ],
             [
              0.6666666666666666,
              "#ed7953"
             ],
             [
              0.7777777777777778,
              "#fb9f3a"
             ],
             [
              0.8888888888888888,
              "#fdca26"
             ],
             [
              1,
              "#f0f921"
             ]
            ],
            "type": "histogram2dcontour"
           }
          ],
          "mesh3d": [
           {
            "colorbar": {
             "outlinewidth": 0,
             "ticks": ""
            },
            "type": "mesh3d"
           }
          ],
          "parcoords": [
           {
            "line": {
             "colorbar": {
              "outlinewidth": 0,
              "ticks": ""
             }
            },
            "type": "parcoords"
           }
          ],
          "pie": [
           {
            "automargin": true,
            "type": "pie"
           }
          ],
          "scatter": [
           {
            "fillpattern": {
             "fillmode": "overlay",
             "size": 10,
             "solidity": 0.2
            },
            "type": "scatter"
           }
          ],
          "scatter3d": [
           {
            "line": {
             "colorbar": {
              "outlinewidth": 0,
              "ticks": ""
             }
            },
            "marker": {
             "colorbar": {
              "outlinewidth": 0,
              "ticks": ""
             }
            },
            "type": "scatter3d"
           }
          ],
          "scattercarpet": [
           {
            "marker": {
             "colorbar": {
              "outlinewidth": 0,
              "ticks": ""
             }
            },
            "type": "scattercarpet"
           }
          ],
          "scattergeo": [
           {
            "marker": {
             "colorbar": {
              "outlinewidth": 0,
              "ticks": ""
             }
            },
            "type": "scattergeo"
           }
          ],
          "scattergl": [
           {
            "marker": {
             "colorbar": {
              "outlinewidth": 0,
              "ticks": ""
             }
            },
            "type": "scattergl"
           }
          ],
          "scattermapbox": [
           {
            "marker": {
             "colorbar": {
              "outlinewidth": 0,
              "ticks": ""
             }
            },
            "type": "scattermapbox"
           }
          ],
          "scatterpolar": [
           {
            "marker": {
             "colorbar": {
              "outlinewidth": 0,
              "ticks": ""
             }
            },
            "type": "scatterpolar"
           }
          ],
          "scatterpolargl": [
           {
            "marker": {
             "colorbar": {
              "outlinewidth": 0,
              "ticks": ""
             }
            },
            "type": "scatterpolargl"
           }
          ],
          "scatterternary": [
           {
            "marker": {
             "colorbar": {
              "outlinewidth": 0,
              "ticks": ""
             }
            },
            "type": "scatterternary"
           }
          ],
          "surface": [
           {
            "colorbar": {
             "outlinewidth": 0,
             "ticks": ""
            },
            "colorscale": [
             [
              0,
              "#0d0887"
             ],
             [
              0.1111111111111111,
              "#46039f"
             ],
             [
              0.2222222222222222,
              "#7201a8"
             ],
             [
              0.3333333333333333,
              "#9c179e"
             ],
             [
              0.4444444444444444,
              "#bd3786"
             ],
             [
              0.5555555555555556,
              "#d8576b"
             ],
             [
              0.6666666666666666,
              "#ed7953"
             ],
             [
              0.7777777777777778,
              "#fb9f3a"
             ],
             [
              0.8888888888888888,
              "#fdca26"
             ],
             [
              1,
              "#f0f921"
             ]
            ],
            "type": "surface"
           }
          ],
          "table": [
           {
            "cells": {
             "fill": {
              "color": "#EBF0F8"
             },
             "line": {
              "color": "white"
             }
            },
            "header": {
             "fill": {
              "color": "#C8D4E3"
             },
             "line": {
              "color": "white"
             }
            },
            "type": "table"
           }
          ]
         },
         "layout": {
          "annotationdefaults": {
           "arrowcolor": "#2a3f5f",
           "arrowhead": 0,
           "arrowwidth": 1
          },
          "autotypenumbers": "strict",
          "coloraxis": {
           "colorbar": {
            "outlinewidth": 0,
            "ticks": ""
           }
          },
          "colorscale": {
           "diverging": [
            [
             0,
             "#8e0152"
            ],
            [
             0.1,
             "#c51b7d"
            ],
            [
             0.2,
             "#de77ae"
            ],
            [
             0.3,
             "#f1b6da"
            ],
            [
             0.4,
             "#fde0ef"
            ],
            [
             0.5,
             "#f7f7f7"
            ],
            [
             0.6,
             "#e6f5d0"
            ],
            [
             0.7,
             "#b8e186"
            ],
            [
             0.8,
             "#7fbc41"
            ],
            [
             0.9,
             "#4d9221"
            ],
            [
             1,
             "#276419"
            ]
           ],
           "sequential": [
            [
             0,
             "#0d0887"
            ],
            [
             0.1111111111111111,
             "#46039f"
            ],
            [
             0.2222222222222222,
             "#7201a8"
            ],
            [
             0.3333333333333333,
             "#9c179e"
            ],
            [
             0.4444444444444444,
             "#bd3786"
            ],
            [
             0.5555555555555556,
             "#d8576b"
            ],
            [
             0.6666666666666666,
             "#ed7953"
            ],
            [
             0.7777777777777778,
             "#fb9f3a"
            ],
            [
             0.8888888888888888,
             "#fdca26"
            ],
            [
             1,
             "#f0f921"
            ]
           ],
           "sequentialminus": [
            [
             0,
             "#0d0887"
            ],
            [
             0.1111111111111111,
             "#46039f"
            ],
            [
             0.2222222222222222,
             "#7201a8"
            ],
            [
             0.3333333333333333,
             "#9c179e"
            ],
            [
             0.4444444444444444,
             "#bd3786"
            ],
            [
             0.5555555555555556,
             "#d8576b"
            ],
            [
             0.6666666666666666,
             "#ed7953"
            ],
            [
             0.7777777777777778,
             "#fb9f3a"
            ],
            [
             0.8888888888888888,
             "#fdca26"
            ],
            [
             1,
             "#f0f921"
            ]
           ]
          },
          "colorway": [
           "#636efa",
           "#EF553B",
           "#00cc96",
           "#ab63fa",
           "#FFA15A",
           "#19d3f3",
           "#FF6692",
           "#B6E880",
           "#FF97FF",
           "#FECB52"
          ],
          "font": {
           "color": "#2a3f5f"
          },
          "geo": {
           "bgcolor": "white",
           "lakecolor": "white",
           "landcolor": "#E5ECF6",
           "showlakes": true,
           "showland": true,
           "subunitcolor": "white"
          },
          "hoverlabel": {
           "align": "left"
          },
          "hovermode": "closest",
          "mapbox": {
           "style": "light"
          },
          "paper_bgcolor": "white",
          "plot_bgcolor": "#E5ECF6",
          "polar": {
           "angularaxis": {
            "gridcolor": "white",
            "linecolor": "white",
            "ticks": ""
           },
           "bgcolor": "#E5ECF6",
           "radialaxis": {
            "gridcolor": "white",
            "linecolor": "white",
            "ticks": ""
           }
          },
          "scene": {
           "xaxis": {
            "backgroundcolor": "#E5ECF6",
            "gridcolor": "white",
            "gridwidth": 2,
            "linecolor": "white",
            "showbackground": true,
            "ticks": "",
            "zerolinecolor": "white"
           },
           "yaxis": {
            "backgroundcolor": "#E5ECF6",
            "gridcolor": "white",
            "gridwidth": 2,
            "linecolor": "white",
            "showbackground": true,
            "ticks": "",
            "zerolinecolor": "white"
           },
           "zaxis": {
            "backgroundcolor": "#E5ECF6",
            "gridcolor": "white",
            "gridwidth": 2,
            "linecolor": "white",
            "showbackground": true,
            "ticks": "",
            "zerolinecolor": "white"
           }
          },
          "shapedefaults": {
           "line": {
            "color": "#2a3f5f"
           }
          },
          "ternary": {
           "aaxis": {
            "gridcolor": "white",
            "linecolor": "white",
            "ticks": ""
           },
           "baxis": {
            "gridcolor": "white",
            "linecolor": "white",
            "ticks": ""
           },
           "bgcolor": "#E5ECF6",
           "caxis": {
            "gridcolor": "white",
            "linecolor": "white",
            "ticks": ""
           }
          },
          "title": {
           "x": 0.05
          },
          "xaxis": {
           "automargin": true,
           "gridcolor": "white",
           "linecolor": "white",
           "ticks": "",
           "title": {
            "standoff": 15
           },
           "zerolinecolor": "white",
           "zerolinewidth": 2
          },
          "yaxis": {
           "automargin": true,
           "gridcolor": "white",
           "linecolor": "white",
           "ticks": "",
           "title": {
            "standoff": 15
           },
           "zerolinecolor": "white",
           "zerolinewidth": 2
          }
         }
        }
       }
      },
      "image/png": "[encoded data removed]",
      "text/html": [
       "<div>                            <div id=\"b65e41f5-6bf5-499f-93ff-e222721a6bd7\" class=\"plotly-graph-div\" style=\"height:525px; width:100%;\"></div>            <script type=\"text/javascript\">                require([\"plotly\"], function(Plotly) {                    window.PLOTLYENV=window.PLOTLYENV || {};                                    if (document.getElementById(\"b65e41f5-6bf5-499f-93ff-e222721a6bd7\")) {                    Plotly.newPlot(                        \"b65e41f5-6bf5-499f-93ff-e222721a6bd7\",                        [{\"text\":[\"Neutral\",\"Satisfied\",\"Very Satisfied\",\"Unsatisfied\"],\"title\":{\"position\":\"top center\",\"text\":\"Sentiment Distribution\"},\"values\":[40,32,32,4],\"type\":\"funnelarea\"}],                        {\"template\":{\"data\":{\"histogram2dcontour\":[{\"type\":\"histogram2dcontour\",\"colorbar\":{\"outlinewidth\":0,\"ticks\":\"\"},\"colorscale\":[[0.0,\"#0d0887\"],[0.1111111111111111,\"#46039f\"],[0.2222222222222222,\"#7201a8\"],[0.3333333333333333,\"#9c179e\"],[0.4444444444444444,\"#bd3786\"],[0.5555555555555556,\"#d8576b\"],[0.6666666666666666,\"#ed7953\"],[0.7777777777777778,\"#fb9f3a\"],[0.8888888888888888,\"#fdca26\"],[1.0,\"#f0f921\"]]}],\"choropleth\":[{\"type\":\"choropleth\",\"colorbar\":{\"outlinewidth\":0,\"ticks\":\"\"}}],\"histogram2d\":[{\"type\":\"histogram2d\",\"colorbar\":{\"outlinewidth\":0,\"ticks\":\"\"},\"colorscale\":[[0.0,\"#0d0887\"],[0.1111111111111111,\"#46039f\"],[0.2222222222222222,\"#7201a8\"],[0.3333333333333333,\"#9c179e\"],[0.4444444444444444,\"#bd3786\"],[0.5555555555555556,\"#d8576b\"],[0.6666666666666666,\"#ed7953\"],[0.7777777777777778,\"#fb9f3a\"],[0.8888888888888888,\"#fdca26\"],[1.0,\"#f0f921\"]]}],\"heatmap\":[{\"type\":\"heatmap\",\"colorbar\":{\"outlinewidth\":0,\"ticks\":\"\"},\"colorscale\":[[0.0,\"#0d0887\"],[0.1111111111111111,\"#46039f\"],[0.2222222222222222,\"#7201a8\"],[0.3333333333333333,\"#9c179e\"],[0.4444444444444444,\"#bd3786\"],[0.5555555555555556,\"#d8576b\"],[0.6666666666666666,\"#ed7953\"],[0.7777777777777778,\"#fb9f3a\"],[0.8888888888888888,\"#fdca26\"],[1.0,\"#f0f921\"]]}],\"heatmapgl\":[{\"type\":\"heatmapgl\",\"colorbar\":{\"outlinewidth\":0,\"ticks\":\"\"},\"colorscale\":[[0.0,\"#0d0887\"],[0.1111111111111111,\"#46039f\"],[0.2222222222222222,\"#7201a8\"],[0.3333333333333333,\"#9c179e\"],[0.4444444444444444,\"#bd3786\"],[0.5555555555555556,\"#d8576b\"],[0.6666666666666666,\"#ed7953\"],[0.7777777777777778,\"#fb9f3a\"],[0.8888888888888888,\"#fdca26\"],[1.0,\"#f0f921\"]]}],\"contourcarpet\":[{\"type\":\"contourcarpet\",\"colorbar\":{\"outlinewidth\":0,\"ticks\":\"\"}}],\"contour\":[{\"type\":\"contour\",\"colorbar\":{\"outlinewidth\":0,\"ticks\":\"\"},\"colorscale\":[[0.0,\"#0d0887\"],[0.1111111111111111,\"#46039f\"],[0.2222222222222222,\"#7201a8\"],[0.3333333333333333,\"#9c179e\"],[0.4444444444444444,\"#bd3786\"],[0.5555555555555556,\"#d8576b\"],[0.6666666666666666,\"#ed7953\"],[0.7777777777777778,\"#fb9f3a\"],[0.8888888888888888,\"#fdca26\"],[1.0,\"#f0f921\"]]}],\"surface\":[{\"type\":\"surface\",\"colorbar\":{\"outlinewidth\":0,\"ticks\":\"\"},\"colorscale\":[[0.0,\"#0d0887\"],[0.1111111111111111,\"#46039f\"],[0.2222222222222222,\"#7201a8\"],[0.3333333333333333,\"#9c179e\"],[0.4444444444444444,\"#bd3786\"],[0.5555555555555556,\"#d8576b\"],[0.6666666666666666,\"#ed7953\"],[0.7777777777777778,\"#fb9f3a\"],[0.8888888888888888,\"#fdca26\"],[1.0,\"#f0f921\"]]}],\"mesh3d\":[{\"type\":\"mesh3d\",\"colorbar\":{\"outlinewidth\":0,\"ticks\":\"\"}}],\"scatter\":[{\"fillpattern\":{\"fillmode\":\"overlay\",\"size\":10,\"solidity\":0.2},\"type\":\"scatter\"}],\"parcoords\":[{\"type\":\"parcoords\",\"line\":{\"colorbar\":{\"outlinewidth\":0,\"ticks\":\"\"}}}],\"scatterpolargl\":[{\"type\":\"scatterpolargl\",\"marker\":{\"colorbar\":{\"outlinewidth\":0,\"ticks\":\"\"}}}],\"bar\":[{\"error_x\":{\"color\":\"#2a3f5f\"},\"error_y\":{\"color\":\"#2a3f5f\"},\"marker\":{\"line\":{\"color\":\"#E5ECF6\",\"width\":0.5},\"pattern\":{\"fillmode\":\"overlay\",\"size\":10,\"solidity\":0.2}},\"type\":\"bar\"}],\"scattergeo\":[{\"type\":\"scattergeo\",\"marker\":{\"colorbar\":{\"outlinewidth\":0,\"ticks\":\"\"}}}],\"scatterpolar\":[{\"type\":\"scatterpolar\",\"marker\":{\"colorbar\":{\"outlinewidth\":0,\"ticks\":\"\"}}}],\"histogram\":[{\"marker\":{\"pattern\":{\"fillmode\":\"overlay\",\"size\":10,\"solidity\":0.2}},\"type\":\"histogram\"}],\"scattergl\":[{\"type\":\"scattergl\",\"marker\":{\"colorbar\":{\"outlinewidth\":0,\"ticks\":\"\"}}}],\"scatter3d\":[{\"type\":\"scatter3d\",\"line\":{\"colorbar\":{\"outlinewidth\":0,\"ticks\":\"\"}},\"marker\":{\"colorbar\":{\"outlinewidth\":0,\"ticks\":\"\"}}}],\"scattermapbox\":[{\"type\":\"scattermapbox\",\"marker\":{\"colorbar\":{\"outlinewidth\":0,\"ticks\":\"\"}}}],\"scatterternary\":[{\"type\":\"scatterternary\",\"marker\":{\"colorbar\":{\"outlinewidth\":0,\"ticks\":\"\"}}}],\"scattercarpet\":[{\"type\":\"scattercarpet\",\"marker\":{\"colorbar\":{\"outlinewidth\":0,\"ticks\":\"\"}}}],\"carpet\":[{\"aaxis\":{\"endlinecolor\":\"#2a3f5f\",\"gridcolor\":\"white\",\"linecolor\":\"white\",\"minorgridcolor\":\"white\",\"startlinecolor\":\"#2a3f5f\"},\"baxis\":{\"endlinecolor\":\"#2a3f5f\",\"gridcolor\":\"white\",\"linecolor\":\"white\",\"minorgridcolor\":\"white\",\"startlinecolor\":\"#2a3f5f\"},\"type\":\"carpet\"}],\"table\":[{\"cells\":{\"fill\":{\"color\":\"#EBF0F8\"},\"line\":{\"color\":\"white\"}},\"header\":{\"fill\":{\"color\":\"#C8D4E3\"},\"line\":{\"color\":\"white\"}},\"type\":\"table\"}],\"barpolar\":[{\"marker\":{\"line\":{\"color\":\"#E5ECF6\",\"width\":0.5},\"pattern\":{\"fillmode\":\"overlay\",\"size\":10,\"solidity\":0.2}},\"type\":\"barpolar\"}],\"pie\":[{\"automargin\":true,\"type\":\"pie\"}]},\"layout\":{\"autotypenumbers\":\"strict\",\"colorway\":[\"#636efa\",\"#EF553B\",\"#00cc96\",\"#ab63fa\",\"#FFA15A\",\"#19d3f3\",\"#FF6692\",\"#B6E880\",\"#FF97FF\",\"#FECB52\"],\"font\":{\"color\":\"#2a3f5f\"},\"hovermode\":\"closest\",\"hoverlabel\":{\"align\":\"left\"},\"paper_bgcolor\":\"white\",\"plot_bgcolor\":\"#E5ECF6\",\"polar\":{\"bgcolor\":\"#E5ECF6\",\"angularaxis\":{\"gridcolor\":\"white\",\"linecolor\":\"white\",\"ticks\":\"\"},\"radialaxis\":{\"gridcolor\":\"white\",\"linecolor\":\"white\",\"ticks\":\"\"}},\"ternary\":{\"bgcolor\":\"#E5ECF6\",\"aaxis\":{\"gridcolor\":\"white\",\"linecolor\":\"white\",\"ticks\":\"\"},\"baxis\":{\"gridcolor\":\"white\",\"linecolor\":\"white\",\"ticks\":\"\"},\"caxis\":{\"gridcolor\":\"white\",\"linecolor\":\"white\",\"ticks\":\"\"}},\"coloraxis\":{\"colorbar\":{\"outlinewidth\":0,\"ticks\":\"\"}},\"colorscale\":{\"sequential\":[[0.0,\"#0d0887\"],[0.1111111111111111,\"#46039f\"],[0.2222222222222222,\"#7201a8\"],[0.3333333333333333,\"#9c179e\"],[0.4444444444444444,\"#bd3786\"],[0.5555555555555556,\"#d8576b\"],[0.6666666666666666,\"#ed7953\"],[0.7777777777777778,\"#fb9f3a\"],[0.8888888888888888,\"#fdca26\"],[1.0,\"#f0f921\"]],\"sequentialminus\":[[0.0,\"#0d0887\"],[0.1111111111111111,\"#46039f\"],[0.2222222222222222,\"#7201a8\"],[0.3333333333333333,\"#9c179e\"],[0.4444444444444444,\"#bd3786\"],[0.5555555555555556,\"#d8576b\"],[0.6666666666666666,\"#ed7953\"],[0.7777777777777778,\"#fb9f3a\"],[0.8888888888888888,\"#fdca26\"],[1.0,\"#f0f921\"]],\"diverging\":[[0,\"#8e0152\"],[0.1,\"#c51b7d\"],[0.2,\"#de77ae\"],[0.3,\"#f1b6da\"],[0.4,\"#fde0ef\"],[0.5,\"#f7f7f7\"],[0.6,\"#e6f5d0\"],[0.7,\"#b8e186\"],[0.8,\"#7fbc41\"],[0.9,\"#4d9221\"],[1,\"#276419\"]]},\"xaxis\":{\"gridcolor\":\"white\",\"linecolor\":\"white\",\"ticks\":\"\",\"title\":{\"standoff\":15},\"zerolinecolor\":\"white\",\"automargin\":true,\"zerolinewidth\":2},\"yaxis\":{\"gridcolor\":\"white\",\"linecolor\":\"white\",\"ticks\":\"\",\"title\":{\"standoff\":15},\"zerolinecolor\":\"white\",\"automargin\":true,\"zerolinewidth\":2},\"scene\":{\"xaxis\":{\"backgroundcolor\":\"#E5ECF6\",\"gridcolor\":\"white\",\"linecolor\":\"white\",\"showbackground\":true,\"ticks\":\"\",\"zerolinecolor\":\"white\",\"gridwidth\":2},\"yaxis\":{\"backgroundcolor\":\"#E5ECF6\",\"gridcolor\":\"white\",\"linecolor\":\"white\",\"showbackground\":true,\"ticks\":\"\",\"zerolinecolor\":\"white\",\"gridwidth\":2},\"zaxis\":{\"backgroundcolor\":\"#E5ECF6\",\"gridcolor\":\"white\",\"linecolor\":\"white\",\"showbackground\":true,\"ticks\":\"\",\"zerolinecolor\":\"white\",\"gridwidth\":2}},\"shapedefaults\":{\"line\":{\"color\":\"#2a3f5f\"}},\"annotationdefaults\":{\"arrowcolor\":\"#2a3f5f\",\"arrowhead\":0,\"arrowwidth\":1},\"geo\":{\"bgcolor\":\"white\",\"landcolor\":\"#E5ECF6\",\"subunitcolor\":\"white\",\"showland\":true,\"showlakes\":true,\"lakecolor\":\"white\"},\"title\":{\"x\":0.05},\"mapbox\":{\"style\":\"light\"}}}},                        {\"responsive\": true}                    ).then(function(){\n",
       "                            \n",
       "var gd = document.getElementById('b65e41f5-6bf5-499f-93ff-e222721a6bd7');\n",
       "var x = new MutationObserver(function (mutations, observer) {{\n",
       "        var display = window.getComputedStyle(gd).display;\n",
       "        if (!display || display === 'none') {{\n",
       "            console.log([gd, 'removed!']);\n",
       "            Plotly.purge(gd);\n",
       "            observer.disconnect();\n",
       "        }}\n",
       "}});\n",
       "\n",
       "// Listen for the removal of the full notebook cells\n",
       "var notebookContainer = gd.closest('#notebook-container');\n",
       "if (notebookContainer) {{\n",
       "    x.observe(notebookContainer, {childList: true});\n",
       "}}\n",
       "\n",
       "// Listen for the clearing of the current output cell\n",
       "var outputEl = gd.closest('.output');\n",
       "if (outputEl) {{\n",
       "    x.observe(outputEl, {childList: true});\n",
       "}}\n",
       "\n",
       "                        })                };                });            </script>        </div>"
      ]
     },
     "metadata": {},
     "output_type": "display_data"
    }
   ],
   "source": [
    "from plotly import graph_objs as go\n",
    "var1 = df.groupby('Sentiment').count()['preprocessed_Text'].reset_index().sort_values(by='preprocessed_Text',ascending=False)\n",
    "fig = go.Figure(go.Funnelarea(\n",
    "    text =var1.Sentiment,\n",
    "    values = var1.preprocessed_Text,\n",
    "    title = {\"position\": \"top center\", \"text\": \"Sentiment Distribution\"}\n",
    "    ))\n",
    "fig.show()"
   ]
  },
  {
   "cell_type": "code",
   "execution_count": null,
   "id": "28df69b8-6904-4bcc-988c-add769ca16af",
   "metadata": {},
   "outputs": [],
   "source": []
  },
  {
   "cell_type": "code",
   "execution_count": 159,
   "id": "3a627850-3963-4910-a600-b12a56993f90",
   "metadata": {},
   "outputs": [
    {
     "data": {
      "text/plain": [
       "Sentiment(polarity=0.0, subjectivity=0.0)"
      ]
     },
     "execution_count": 159,
     "metadata": {},
     "output_type": "execute_result"
    }
   ],
   "source": [
    "from textblob import TextBlob, Word, Blobber\n",
    "email = \"I would like to meet you again\"\n",
    "TextBlob(email).sentiment"
   ]
  },
  {
   "cell_type": "code",
   "execution_count": 57,
   "id": "a563523d-e611-417c-afce-4fab28328354",
   "metadata": {},
   "outputs": [
    {
     "data": {
      "text/html": [
       "<div>\n",
       "<style scoped>\n",
       "    .dataframe tbody tr th:only-of-type {\n",
       "        vertical-align: middle;\n",
       "    }\n",
       "\n",
       "    .dataframe tbody tr th {\n",
       "        vertical-align: top;\n",
       "    }\n",
       "\n",
       "    .dataframe thead th {\n",
       "        text-align: right;\n",
       "    }\n",
       "</style>\n",
       "<table border=\"1\" class=\"dataframe\">\n",
       "  <thead>\n",
       "    <tr style=\"text-align: right;\">\n",
       "      <th></th>\n",
       "      <th>cli_name</th>\n",
       "      <th>Subject</th>\n",
       "      <th>From</th>\n",
       "      <th>To</th>\n",
       "      <th>Text</th>\n",
       "      <th>preprocessed_Text</th>\n",
       "      <th>description_lengths</th>\n",
       "      <th>score</th>\n",
       "      <th>compound</th>\n",
       "      <th>Sentiment</th>\n",
       "      <th>TB_score</th>\n",
       "    </tr>\n",
       "  </thead>\n",
       "  <tbody>\n",
       "    <tr>\n",
       "      <th>0</th>\n",
       "      <td>Giza Systems</td>\n",
       "      <td>RE Company Form 20 Adding Richard and Ehab Th...</td>\n",
       "      <td>Ahmed Hany</td>\n",
       "      <td>Salim salim</td>\n",
       "      <td>Adding Richard and Ehab Thanks Best Regards A...</td>\n",
       "      <td>add richard ehab thank best ahmed hany elsayed...</td>\n",
       "      <td>40</td>\n",
       "      <td>{'neg': 0.0, 'neu': 0.85, 'pos': 0.15, 'compou...</td>\n",
       "      <td>0.7717</td>\n",
       "      <td>very satisfied</td>\n",
       "      <td>(1.0, 0.3)</td>\n",
       "    </tr>\n",
       "    <tr>\n",
       "      <th>1</th>\n",
       "      <td>Giza Systems</td>\n",
       "      <td>RE Rejection of TCC</td>\n",
       "      <td>Ahmed Hany</td>\n",
       "      <td>Nanyonjo Jacinta</td>\n",
       "      <td>Dear Rita Kindly find attached Thanks Best Re...</td>\n",
       "      <td>dear rita kindly find attach thank best ahmed ...</td>\n",
       "      <td>42</td>\n",
       "      <td>{'neg': 0.0, 'neu': 0.752, 'pos': 0.248, 'comp...</td>\n",
       "      <td>0.9100</td>\n",
       "      <td>very satisfied</td>\n",
       "      <td>(0.8, 0.6)</td>\n",
       "    </tr>\n",
       "    <tr>\n",
       "      <th>2</th>\n",
       "      <td>INDEPENDENT MEDICO LEGAL UNIT (IMLU)</td>\n",
       "      <td>Re Application for Income Tax Exemption Certi...</td>\n",
       "      <td>Carolyn Njange</td>\n",
       "      <td>Peter peter</td>\n",
       "      <td>Dear Mwangi This is fine with us Regards On T...</td>\n",
       "      <td>dear mwangi fine tue apr peter mwangi peter mw...</td>\n",
       "      <td>190</td>\n",
       "      <td>{'neg': 0.06, 'neu': 0.784, 'pos': 0.156, 'com...</td>\n",
       "      <td>0.9584</td>\n",
       "      <td>very satisfied</td>\n",
       "      <td>(0.06439909297052154, 0.3692176870748301)</td>\n",
       "    </tr>\n",
       "    <tr>\n",
       "      <th>3</th>\n",
       "      <td>INDEPENDENT MEDICO LEGAL UNIT (IMLU)</td>\n",
       "      <td>Re Application for Income Tax Exemption Certi...</td>\n",
       "      <td>Carolyn Njange</td>\n",
       "      <td>Phoebe kra</td>\n",
       "      <td>From Carolyn Njange cnjange imlu org mailto c...</td>\n",
       "      <td>carolyn njange cnjange cnjange send tuesday ap...</td>\n",
       "      <td>599</td>\n",
       "      <td>{'neg': 0.007, 'neu': 0.837, 'pos': 0.156, 'co...</td>\n",
       "      <td>0.9981</td>\n",
       "      <td>very satisfied</td>\n",
       "      <td>(0.2283819628647215, 0.44462864721485407)</td>\n",
       "    </tr>\n",
       "    <tr>\n",
       "      <th>4</th>\n",
       "      <td>INDEPENDENT MEDICO LEGAL UNIT (IMLU)</td>\n",
       "      <td>Re Application for Income Tax Exemption Certi...</td>\n",
       "      <td>Carolyn Njange</td>\n",
       "      <td>Phoebe kra</td>\n",
       "      <td>Dear Mwangi We spoke when Phoebe requested th...</td>\n",
       "      <td>dear mwangi speak phoebe request additional in...</td>\n",
       "      <td>493</td>\n",
       "      <td>{'neg': 0.008, 'neu': 0.818, 'pos': 0.174, 'co...</td>\n",
       "      <td>0.9978</td>\n",
       "      <td>very satisfied</td>\n",
       "      <td>(0.2534516765285996, 0.47061143984220905)</td>\n",
       "    </tr>\n",
       "  </tbody>\n",
       "</table>\n",
       "</div>"
      ],
      "text/plain": [
       "                               cli_name  \\\n",
       "0                          Giza Systems   \n",
       "1                          Giza Systems   \n",
       "2  INDEPENDENT MEDICO LEGAL UNIT (IMLU)   \n",
       "3  INDEPENDENT MEDICO LEGAL UNIT (IMLU)   \n",
       "4  INDEPENDENT MEDICO LEGAL UNIT (IMLU)   \n",
       "\n",
       "                                             Subject            From  \\\n",
       "0   RE Company Form 20 Adding Richard and Ehab Th...      Ahmed Hany   \n",
       "1                                RE Rejection of TCC      Ahmed Hany   \n",
       "2   Re Application for Income Tax Exemption Certi...  Carolyn Njange   \n",
       "3   Re Application for Income Tax Exemption Certi...  Carolyn Njange   \n",
       "4   Re Application for Income Tax Exemption Certi...  Carolyn Njange   \n",
       "\n",
       "                 To                                               Text  \\\n",
       "0       Salim salim   Adding Richard and Ehab Thanks Best Regards A...   \n",
       "1  Nanyonjo Jacinta   Dear Rita Kindly find attached Thanks Best Re...   \n",
       "2       Peter peter   Dear Mwangi This is fine with us Regards On T...   \n",
       "3        Phoebe kra   From Carolyn Njange cnjange imlu org mailto c...   \n",
       "4        Phoebe kra   Dear Mwangi We spoke when Phoebe requested th...   \n",
       "\n",
       "                                   preprocessed_Text  description_lengths  \\\n",
       "0  add richard ehab thank best ahmed hany elsayed...                   40   \n",
       "1  dear rita kindly find attach thank best ahmed ...                   42   \n",
       "2  dear mwangi fine tue apr peter mwangi peter mw...                  190   \n",
       "3  carolyn njange cnjange cnjange send tuesday ap...                  599   \n",
       "4  dear mwangi speak phoebe request additional in...                  493   \n",
       "\n",
       "                                               score  compound  \\\n",
       "0  {'neg': 0.0, 'neu': 0.85, 'pos': 0.15, 'compou...    0.7717   \n",
       "1  {'neg': 0.0, 'neu': 0.752, 'pos': 0.248, 'comp...    0.9100   \n",
       "2  {'neg': 0.06, 'neu': 0.784, 'pos': 0.156, 'com...    0.9584   \n",
       "3  {'neg': 0.007, 'neu': 0.837, 'pos': 0.156, 'co...    0.9981   \n",
       "4  {'neg': 0.008, 'neu': 0.818, 'pos': 0.174, 'co...    0.9978   \n",
       "\n",
       "        Sentiment                                   TB_score  \n",
       "0  very satisfied                                 (1.0, 0.3)  \n",
       "1  very satisfied                                 (0.8, 0.6)  \n",
       "2  very satisfied  (0.06439909297052154, 0.3692176870748301)  \n",
       "3  very satisfied  (0.2283819628647215, 0.44462864721485407)  \n",
       "4  very satisfied  (0.2534516765285996, 0.47061143984220905)  "
      ]
     },
     "execution_count": 57,
     "metadata": {},
     "output_type": "execute_result"
    }
   ],
   "source": [
    "df['TB_score']= df.preprocessed_Text.apply(lambda x: TextBlob(x).sentiment)\n",
    "df.head()"
   ]
  },
  {
   "cell_type": "code",
   "execution_count": 59,
   "id": "5f68085c-77fb-47c1-b351-40f7e234fa7f",
   "metadata": {},
   "outputs": [
    {
     "data": {
      "text/html": [
       "<div>\n",
       "<style scoped>\n",
       "    .dataframe tbody tr th:only-of-type {\n",
       "        vertical-align: middle;\n",
       "    }\n",
       "\n",
       "    .dataframe tbody tr th {\n",
       "        vertical-align: top;\n",
       "    }\n",
       "\n",
       "    .dataframe thead th {\n",
       "        text-align: right;\n",
       "    }\n",
       "</style>\n",
       "<table border=\"1\" class=\"dataframe\">\n",
       "  <thead>\n",
       "    <tr style=\"text-align: right;\">\n",
       "      <th></th>\n",
       "      <th>cli_name</th>\n",
       "      <th>Subject</th>\n",
       "      <th>From</th>\n",
       "      <th>To</th>\n",
       "      <th>Text</th>\n",
       "      <th>preprocessed_Text</th>\n",
       "      <th>description_lengths</th>\n",
       "      <th>score</th>\n",
       "      <th>compound</th>\n",
       "      <th>Sentiment</th>\n",
       "      <th>TB_score</th>\n",
       "      <th>TB_sentiment</th>\n",
       "    </tr>\n",
       "  </thead>\n",
       "  <tbody>\n",
       "    <tr>\n",
       "      <th>0</th>\n",
       "      <td>Giza Systems</td>\n",
       "      <td>RE Company Form 20 Adding Richard and Ehab Th...</td>\n",
       "      <td>Ahmed Hany</td>\n",
       "      <td>Salim salim</td>\n",
       "      <td>Adding Richard and Ehab Thanks Best Regards A...</td>\n",
       "      <td>add richard ehab thank best ahmed hany elsayed...</td>\n",
       "      <td>40</td>\n",
       "      <td>{'neg': 0.0, 'neu': 0.85, 'pos': 0.15, 'compou...</td>\n",
       "      <td>0.7717</td>\n",
       "      <td>very satisfied</td>\n",
       "      <td>(1.0, 0.3)</td>\n",
       "      <td>1.000000</td>\n",
       "    </tr>\n",
       "    <tr>\n",
       "      <th>1</th>\n",
       "      <td>Giza Systems</td>\n",
       "      <td>RE Rejection of TCC</td>\n",
       "      <td>Ahmed Hany</td>\n",
       "      <td>Nanyonjo Jacinta</td>\n",
       "      <td>Dear Rita Kindly find attached Thanks Best Re...</td>\n",
       "      <td>dear rita kindly find attach thank best ahmed ...</td>\n",
       "      <td>42</td>\n",
       "      <td>{'neg': 0.0, 'neu': 0.752, 'pos': 0.248, 'comp...</td>\n",
       "      <td>0.9100</td>\n",
       "      <td>very satisfied</td>\n",
       "      <td>(0.8, 0.6)</td>\n",
       "      <td>0.800000</td>\n",
       "    </tr>\n",
       "    <tr>\n",
       "      <th>2</th>\n",
       "      <td>INDEPENDENT MEDICO LEGAL UNIT (IMLU)</td>\n",
       "      <td>Re Application for Income Tax Exemption Certi...</td>\n",
       "      <td>Carolyn Njange</td>\n",
       "      <td>Peter peter</td>\n",
       "      <td>Dear Mwangi This is fine with us Regards On T...</td>\n",
       "      <td>dear mwangi fine tue apr peter mwangi peter mw...</td>\n",
       "      <td>190</td>\n",
       "      <td>{'neg': 0.06, 'neu': 0.784, 'pos': 0.156, 'com...</td>\n",
       "      <td>0.9584</td>\n",
       "      <td>very satisfied</td>\n",
       "      <td>(0.06439909297052154, 0.3692176870748301)</td>\n",
       "      <td>0.064399</td>\n",
       "    </tr>\n",
       "    <tr>\n",
       "      <th>3</th>\n",
       "      <td>INDEPENDENT MEDICO LEGAL UNIT (IMLU)</td>\n",
       "      <td>Re Application for Income Tax Exemption Certi...</td>\n",
       "      <td>Carolyn Njange</td>\n",
       "      <td>Phoebe kra</td>\n",
       "      <td>From Carolyn Njange cnjange imlu org mailto c...</td>\n",
       "      <td>carolyn njange cnjange cnjange send tuesday ap...</td>\n",
       "      <td>599</td>\n",
       "      <td>{'neg': 0.007, 'neu': 0.837, 'pos': 0.156, 'co...</td>\n",
       "      <td>0.9981</td>\n",
       "      <td>very satisfied</td>\n",
       "      <td>(0.2283819628647215, 0.44462864721485407)</td>\n",
       "      <td>0.228382</td>\n",
       "    </tr>\n",
       "    <tr>\n",
       "      <th>4</th>\n",
       "      <td>INDEPENDENT MEDICO LEGAL UNIT (IMLU)</td>\n",
       "      <td>Re Application for Income Tax Exemption Certi...</td>\n",
       "      <td>Carolyn Njange</td>\n",
       "      <td>Phoebe kra</td>\n",
       "      <td>Dear Mwangi We spoke when Phoebe requested th...</td>\n",
       "      <td>dear mwangi speak phoebe request additional in...</td>\n",
       "      <td>493</td>\n",
       "      <td>{'neg': 0.008, 'neu': 0.818, 'pos': 0.174, 'co...</td>\n",
       "      <td>0.9978</td>\n",
       "      <td>very satisfied</td>\n",
       "      <td>(0.2534516765285996, 0.47061143984220905)</td>\n",
       "      <td>0.253452</td>\n",
       "    </tr>\n",
       "  </tbody>\n",
       "</table>\n",
       "</div>"
      ],
      "text/plain": [
       "                               cli_name  \\\n",
       "0                          Giza Systems   \n",
       "1                          Giza Systems   \n",
       "2  INDEPENDENT MEDICO LEGAL UNIT (IMLU)   \n",
       "3  INDEPENDENT MEDICO LEGAL UNIT (IMLU)   \n",
       "4  INDEPENDENT MEDICO LEGAL UNIT (IMLU)   \n",
       "\n",
       "                                             Subject            From  \\\n",
       "0   RE Company Form 20 Adding Richard and Ehab Th...      Ahmed Hany   \n",
       "1                                RE Rejection of TCC      Ahmed Hany   \n",
       "2   Re Application for Income Tax Exemption Certi...  Carolyn Njange   \n",
       "3   Re Application for Income Tax Exemption Certi...  Carolyn Njange   \n",
       "4   Re Application for Income Tax Exemption Certi...  Carolyn Njange   \n",
       "\n",
       "                 To                                               Text  \\\n",
       "0       Salim salim   Adding Richard and Ehab Thanks Best Regards A...   \n",
       "1  Nanyonjo Jacinta   Dear Rita Kindly find attached Thanks Best Re...   \n",
       "2       Peter peter   Dear Mwangi This is fine with us Regards On T...   \n",
       "3        Phoebe kra   From Carolyn Njange cnjange imlu org mailto c...   \n",
       "4        Phoebe kra   Dear Mwangi We spoke when Phoebe requested th...   \n",
       "\n",
       "                                   preprocessed_Text  description_lengths  \\\n",
       "0  add richard ehab thank best ahmed hany elsayed...                   40   \n",
       "1  dear rita kindly find attach thank best ahmed ...                   42   \n",
       "2  dear mwangi fine tue apr peter mwangi peter mw...                  190   \n",
       "3  carolyn njange cnjange cnjange send tuesday ap...                  599   \n",
       "4  dear mwangi speak phoebe request additional in...                  493   \n",
       "\n",
       "                                               score  compound  \\\n",
       "0  {'neg': 0.0, 'neu': 0.85, 'pos': 0.15, 'compou...    0.7717   \n",
       "1  {'neg': 0.0, 'neu': 0.752, 'pos': 0.248, 'comp...    0.9100   \n",
       "2  {'neg': 0.06, 'neu': 0.784, 'pos': 0.156, 'com...    0.9584   \n",
       "3  {'neg': 0.007, 'neu': 0.837, 'pos': 0.156, 'co...    0.9981   \n",
       "4  {'neg': 0.008, 'neu': 0.818, 'pos': 0.174, 'co...    0.9978   \n",
       "\n",
       "        Sentiment                                   TB_score  TB_sentiment  \n",
       "0  very satisfied                                 (1.0, 0.3)      1.000000  \n",
       "1  very satisfied                                 (0.8, 0.6)      0.800000  \n",
       "2  very satisfied  (0.06439909297052154, 0.3692176870748301)      0.064399  \n",
       "3  very satisfied  (0.2283819628647215, 0.44462864721485407)      0.228382  \n",
       "4  very satisfied  (0.2534516765285996, 0.47061143984220905)      0.253452  "
      ]
     },
     "execution_count": 59,
     "metadata": {},
     "output_type": "execute_result"
    }
   ],
   "source": [
    "df['TB_sentiment'] = df['preprocessed_Text'].apply(lambda x: TextBlob(x).sentiment[0])\n",
    "df.head()"
   ]
  },
  {
   "cell_type": "code",
   "execution_count": 68,
   "id": "d06a0b2d-d9e3-4bcf-818a-a71be5804bba",
   "metadata": {},
   "outputs": [],
   "source": [
    "new_df = df[['cli_name','score','compound']]"
   ]
  },
  {
   "cell_type": "code",
   "execution_count": 69,
   "id": "a6dd342b-ab15-4270-88f1-cf5f281a6f14",
   "metadata": {},
   "outputs": [],
   "source": [
    "new_df.to_json('client_score.json')"
   ]
  },
  {
   "cell_type": "code",
   "execution_count": 367,
   "id": "f2e12602-cc6f-404d-bebe-a4f2e820acd9",
   "metadata": {},
   "outputs": [
    {
     "data": {
      "text/plain": [
       "32                                 appreciate tcc expire\n",
       "33         exactly get load new work permit apply number\n",
       "34                                       appreciate year\n",
       "35     speak issue week ago kindly update shortly nee...\n",
       "36     long time recall meet office early year notice...\n",
       "                             ...                        \n",
       "99                          don t agree tomorrow discuss\n",
       "100                                                     \n",
       "101    apology belate response accounts ok retain ear...\n",
       "102                     resolve fail don t want reminder\n",
       "103                                sort irritate balance\n",
       "Name: preprocessed_Text, Length: 71, dtype: object"
      ]
     },
     "execution_count": 367,
     "metadata": {},
     "output_type": "execute_result"
    }
   ],
   "source": [
    "df[df['cli_name']=='School Operators Ltd']['preprocessed_Text']"
   ]
  },
  {
   "cell_type": "code",
   "execution_count": null,
   "id": "9035276c-6235-41c8-8e0b-66f5e18944ee",
   "metadata": {},
   "outputs": [],
   "source": [
    "c"
   ]
  },
  {
   "cell_type": "markdown",
   "id": "aa0b4a13-3d6d-4232-a0ce-621f39145f01",
   "metadata": {},
   "source": [
    "## Complain Categorization using Keywords Provided"
   ]
  },
  {
   "cell_type": "code",
   "execution_count": 22,
   "id": "84ef1667-6bb9-4324-8873-a55916697c09",
   "metadata": {},
   "outputs": [],
   "source": [
    "billing_dispute_keywords = [\n",
    "    \"Discrepancy\",\n",
    "    \"Charges\",\n",
    "    \"Additional charges\",\n",
    "    \"Clarification\",\n",
    "    \"Billing dispute\",\n",
    "    \"Discrepancies\",\n",
    "    \"Audit fee increase\",\n",
    "    \"Reconsideration\",\n",
    "    \"Disputed charges\"\n",
    "]\n",
    "\n",
    "\n",
    "quality_of_service_complaint_keywords = [\n",
    "    \"Dissatisfaction\",\n",
    "    \"Issues\",\n",
    "    \"Communication\",\n",
    "    \"Accuracy\",\n",
    "    \"Thoroughness\",\n",
    "    \"Feedback\",\n",
    "    \"Improvements\",\n",
    "    \"Quality\",\n",
    "    \"Effectiveness\",\n",
    "    \"Compliance\",\n",
    "    \"Regulatory standards\",\n",
    "    \"Discrepancies\",\n",
    "    \"Clarification\",\n",
    "    \"Cooperation\",\n",
    "    \"Integrity\",\n",
    "    \"Ethical standards\",\n",
    "    \"Disciplinary action\"\n",
    "]\n",
    "\n",
    "conflict_of_interest_keywords = [\n",
    "    \"Conflict of interest\",\n",
    "    \"Disclosure\",\n",
    "    \"Due diligence\",\n",
    "    \"Potential conflicts\",\n",
    "    \"Transparency\",\n",
    "    \"Trust\",\n",
    "    \"Impartiality\",\n",
    "    \"Cooperation\",\n",
    "    \"Bias\",\n",
    "    \"Independence concerns\",\n",
    "    \"Credibility\",\n",
    "    \"Integrity\",\n",
    "    \"Compliance\",\n",
    "    \"Regulatory requirements\",\n",
    "    \"Auditor-client relationship\",\n",
    "    \"Complaints\",\n",
    "    \"Concerns\"\n",
    "\n",
    "]\n",
    "\n",
    "communication_issue_keywords = [\n",
    "    \"Communication\",\n",
    "    \"Updates\",\n",
    "    \"Clarification\",\n",
    "    \"Anxiety\",\n",
    "    \"Uncertainty\",\n",
    "    \"Guidance\",\n",
    "    \"Timely\",\n",
    "    \"Accurate\",\n",
    "    \"Inquiry\",\n",
    "    \"Response\",\n",
    "    \"Consultation\",\n",
    "    \"Expertise\",\n",
    "    \"Strategic guidance\",\n",
    "    \"Attention\",\n",
    "    \"Transparency\",\n",
    "    \"Regular updates\",\n",
    "    \"Communication breakdown\",\n",
    "    \"Deadlines\",\n",
    "    \"Intervention\"\n",
    "]\n",
    "\n",
    "confidentiality_breach_keywords = [\n",
    "    \"Confidentiality\",\n",
    "    \"Breach\",\n",
    "    \"Advisory information\",\n",
    "    \"Investigation\",\n",
    "    \"Implications\",\n",
    "    \"Competitive advantage\",\n",
    "    \"Prevention\",\n",
    "    \"Data security breach\",\n",
    "    \"Notification\",\n",
    "    \"Audit-related information\",\n",
    "    \"Compromised\",\n",
    "    \"Unauthorized access\",\n",
    "    \"Assessment\",\n",
    "    \"Mitigation\",\n",
    "    \"Document handling\",\n",
    "    \"Concerns\",\n",
    "    \"Mishandled\",\n",
    "    \"Safeguards\"\n",
    "]\n",
    "\n"
   ]
  },
  {
   "cell_type": "code",
   "execution_count": 23,
   "id": "3b0426bf-668a-473f-8efb-f41aa3cae78e",
   "metadata": {},
   "outputs": [],
   "source": [
    "test_df = df[['preprocessed_Text','Text']]"
   ]
  },
  {
   "cell_type": "code",
   "execution_count": 24,
   "id": "ffd829d2-da26-4a99-a796-4fd16e5b507e",
   "metadata": {},
   "outputs": [
    {
     "data": {
      "text/html": [
       "<div>\n",
       "<style scoped>\n",
       "    .dataframe tbody tr th:only-of-type {\n",
       "        vertical-align: middle;\n",
       "    }\n",
       "\n",
       "    .dataframe tbody tr th {\n",
       "        vertical-align: top;\n",
       "    }\n",
       "\n",
       "    .dataframe thead th {\n",
       "        text-align: right;\n",
       "    }\n",
       "</style>\n",
       "<table border=\"1\" class=\"dataframe\">\n",
       "  <thead>\n",
       "    <tr style=\"text-align: right;\">\n",
       "      <th></th>\n",
       "      <th>preprocessed_Text</th>\n",
       "      <th>Text</th>\n",
       "    </tr>\n",
       "  </thead>\n",
       "  <tbody>\n",
       "    <tr>\n",
       "      <th>0</th>\n",
       "      <td>add thank best elsayed country sales manager u...</td>\n",
       "      <td>Adding Richard and Ehab Thanks Best Regards A...</td>\n",
       "    </tr>\n",
       "    <tr>\n",
       "      <th>1</th>\n",
       "      <td>kindly find attach thank best elsayed country ...</td>\n",
       "      <td>Dear Rita Kindly find attached Thanks Best Re...</td>\n",
       "    </tr>\n",
       "    <tr>\n",
       "      <th>2</th>\n",
       "      <td>fine tue apr write good evening thank reach pr...</td>\n",
       "      <td>Dear Mwangi This is fine with us Regards On T...</td>\n",
       "    </tr>\n",
       "    <tr>\n",
       "      <th>3</th>\n",
       "      <td>send tuesday april ochiel ke ochiel ke ochiel ...</td>\n",
       "      <td>From Carolyn Njange cnjange imlu org mailto c...</td>\n",
       "    </tr>\n",
       "    <tr>\n",
       "      <th>4</th>\n",
       "      <td>speak request additional information promise r...</td>\n",
       "      <td>Dear Mwangi We spoke when Phoebe requested th...</td>\n",
       "    </tr>\n",
       "    <tr>\n",
       "      <th>...</th>\n",
       "      <td>...</td>\n",
       "      <td>...</td>\n",
       "    </tr>\n",
       "    <tr>\n",
       "      <th>91</th>\n",
       "      <td>originate outside organization click link open...</td>\n",
       "      <td>This email originated from outside of the org...</td>\n",
       "    </tr>\n",
       "    <tr>\n",
       "      <th>92</th>\n",
       "      <td>originate outside organization click link open...</td>\n",
       "      <td>This email originated from outside of the org...</td>\n",
       "    </tr>\n",
       "    <tr>\n",
       "      <th>93</th>\n",
       "      <td>originate outside organization click link open...</td>\n",
       "      <td>This email originated from outside of the org...</td>\n",
       "    </tr>\n",
       "    <tr>\n",
       "      <th>94</th>\n",
       "      <td>originate outside organization click link open...</td>\n",
       "      <td>This email originated from outside of the org...</td>\n",
       "    </tr>\n",
       "    <tr>\n",
       "      <th>95</th>\n",
       "      <td>originate outside organization click link open...</td>\n",
       "      <td>This email originated from outside of the org...</td>\n",
       "    </tr>\n",
       "  </tbody>\n",
       "</table>\n",
       "<p>96 rows × 2 columns</p>\n",
       "</div>"
      ],
      "text/plain": [
       "                                    preprocessed_Text  \\\n",
       "0   add thank best elsayed country sales manager u...   \n",
       "1   kindly find attach thank best elsayed country ...   \n",
       "2   fine tue apr write good evening thank reach pr...   \n",
       "3   send tuesday april ochiel ke ochiel ke ochiel ...   \n",
       "4   speak request additional information promise r...   \n",
       "..                                                ...   \n",
       "91  originate outside organization click link open...   \n",
       "92  originate outside organization click link open...   \n",
       "93  originate outside organization click link open...   \n",
       "94  originate outside organization click link open...   \n",
       "95  originate outside organization click link open...   \n",
       "\n",
       "                                                 Text  \n",
       "0    Adding Richard and Ehab Thanks Best Regards A...  \n",
       "1    Dear Rita Kindly find attached Thanks Best Re...  \n",
       "2    Dear Mwangi This is fine with us Regards On T...  \n",
       "3    From Carolyn Njange cnjange imlu org mailto c...  \n",
       "4    Dear Mwangi We spoke when Phoebe requested th...  \n",
       "..                                                ...  \n",
       "91   This email originated from outside of the org...  \n",
       "92   This email originated from outside of the org...  \n",
       "93   This email originated from outside of the org...  \n",
       "94   This email originated from outside of the org...  \n",
       "95   This email originated from outside of the org...  \n",
       "\n",
       "[96 rows x 2 columns]"
      ]
     },
     "execution_count": 24,
     "metadata": {},
     "output_type": "execute_result"
    }
   ],
   "source": [
    "test_df"
   ]
  },
  {
   "cell_type": "code",
   "execution_count": 99,
   "id": "b9a14ebb-1efd-47bf-938a-de228424ffe1",
   "metadata": {},
   "outputs": [],
   "source": [
    "test_df = pd.DataFrame(test_df)"
   ]
  },
  {
   "cell_type": "code",
   "execution_count": 25,
   "id": "da08d7c3-ca49-403d-85b5-811a357eade8",
   "metadata": {},
   "outputs": [],
   "source": [
    "def count_matched_keywords(text,keywords_class):\n",
    "    words = text.split()\n",
    "    count = 0\n",
    "    for word in words:\n",
    "        if word in keywords_class:\n",
    "            count+=1\n",
    "        else:\n",
    "            continue\n",
    "    return count\n"
   ]
  },
  {
   "cell_type": "code",
   "execution_count": 26,
   "id": "2888a8ad-cd61-42c3-8226-9fef5afe206f",
   "metadata": {},
   "outputs": [],
   "source": [
    "test_df['billing_dispute_keyword'] = test_df['Text'].apply(lambda x: count_matched_keywords(x,billing_dispute_keywords))\n",
    "test_df['quality_of_service_complaint_keywords'] = test_df['Text'].apply(lambda x: count_matched_keywords(x,quality_of_service_complaint_keywords))\n",
    "test_df['conflict_of_interest_keywords'] = test_df['Text'].apply(lambda x: count_matched_keywords(x,conflict_of_interest_keywords))\n",
    "test_df['communication_issue_keywords'] = test_df['Text'].apply(lambda x: count_matched_keywords(x,communication_issue_keywords))\n",
    "test_df['confidentiality_breach_keywords'] = test_df['Text'].apply(lambda x: count_matched_keywords(x,confidentiality_breach_keywords))"
   ]
  },
  {
   "cell_type": "code",
   "execution_count": 27,
   "id": "586857ed-7d93-42d0-8679-4ee6512bb7dd",
   "metadata": {},
   "outputs": [],
   "source": [
    "def assign_category(item,keywords):\n",
    "    if item!=0:\n",
    "        return keywords[:-9]\n",
    "    else:\n",
    "        return 'No Complain'\n",
    "    "
   ]
  },
  {
   "cell_type": "code",
   "execution_count": 28,
   "id": "0117b4d3-f65e-4e5e-b7de-6e19a97f4d79",
   "metadata": {},
   "outputs": [],
   "source": [
    "test_df['complain_cat'] = test_df['conflict_of_interest_keywords'].apply(lambda x:assign_category(x,'conflict_of_interest_keywords'))"
   ]
  },
  {
   "cell_type": "code",
   "execution_count": 135,
   "id": "39449689-25f5-4926-a660-062ab852db6e",
   "metadata": {},
   "outputs": [],
   "source": [
    "st = 'quality_of_service_complaint_keywords'"
   ]
  },
  {
   "cell_type": "code",
   "execution_count": null,
   "id": "4bf1a648-b805-4445-b804-fbf646557813",
   "metadata": {},
   "outputs": [],
   "source": []
  },
  {
   "cell_type": "code",
   "execution_count": 29,
   "id": "211e58c9-4244-4b8c-9459-e637e4423c1a",
   "metadata": {},
   "outputs": [],
   "source": [
    "test_df['complain_cat'][6:8] = 'conflict of interest | quality of service complaint'"
   ]
  },
  {
   "cell_type": "code",
   "execution_count": 156,
   "id": "58c00248-80e8-433d-bccb-c435904009f1",
   "metadata": {},
   "outputs": [],
   "source": [
    "complain_cat_df = test_df['complain_cat'].value_counts()"
   ]
  },
  {
   "cell_type": "code",
   "execution_count": 163,
   "id": "2305e081-6bd0-4f07-bf19-4438122b3b76",
   "metadata": {},
   "outputs": [],
   "source": [
    "complain_cat_df = pd.DataFrame(complain_cat_df)"
   ]
  },
  {
   "cell_type": "code",
   "execution_count": 161,
   "id": "05337bbc-77de-4b28-8954-3e60dea0c039",
   "metadata": {},
   "outputs": [],
   "source": [
    "test_df.to_json('complain_categories.json')"
   ]
  },
  {
   "cell_type": "code",
   "execution_count": 164,
   "id": "12da7658-0985-4b64-bc48-5050ae93d30e",
   "metadata": {},
   "outputs": [],
   "source": [
    "complain_cat_df.to_json('complain.json')"
   ]
  },
  {
   "cell_type": "code",
   "execution_count": 49,
   "id": "a27ac0de-862b-47db-999a-b72167e93115",
   "metadata": {},
   "outputs": [
    {
     "name": "stdout",
     "output_type": "stream",
     "text": [
      "hello sunny find attach document regard\n"
     ]
    }
   ],
   "source": [
    "def preprocessed_emails(text):\n",
    "    doc = nlp(text)\n",
    "    \n",
    "    # Identify named entities\n",
    "    named_entities = set(ent.text for ent in doc.ents if ent.label_ == 'PERSON')\n",
    "    \n",
    "    processed_text = []\n",
    "    for token in doc:\n",
    "        if not token.is_stop and not token.is_punct and not token.is_digit and not token.is_bracket and not token.is_currency and not token.is_space:\n",
    "            # Check if the token is a named entity\n",
    "            if token.text not in named_entities:\n",
    "                processed_text.append(token.lemma_.lower())\n",
    "    \n",
    "    filtered = ' '.join(processed_text)\n",
    "    words = filtered.split()\n",
    "    preprocessed_text = [word for word in words if word not in ['http', 'https', 'www', 'com', 'org', 'mailto', 'regards', 'Regards', 'Rgds', 'imlu', 'email', 'attachment', 'ea', 'e', 'bdo', 'kariuki', '7C', 'cnjange', 'peter']]\n",
    "    \n",
    "    return ' '.join(preprocessed_text)\n",
    "\n",
    "# Example usage\n",
    "text = \"Hello , please find the attached document. Regards, Kariuki\"\n",
    "print(preprocessed_emails(text))"
   ]
  },
  {
   "cell_type": "code",
   "execution_count": 58,
   "id": "b6f58c78-a1be-43d5-af46-f95935f63241",
   "metadata": {},
   "outputs": [
    {
     "name": "stdout",
     "output_type": "stream",
     "text": [
      "hello ahmed hany find attach document regard kariuki\n"
     ]
    }
   ],
   "source": [
    "import spacy\n",
    "\n",
    "# Load the spaCy model\n",
    "nlp = spacy.load('en_core_web_sm')\n",
    "\n",
    "def preprocessed_emails(text):\n",
    "    # Process the text with spaCy\n",
    "    doc = nlp(text)\n",
    "    \n",
    "    # Collect named entities labeled as 'PERSON'\n",
    "    named_entities = {ent.text for ent in doc.ents if ent.label_ == 'PERSON'}\n",
    "    \n",
    "    processed_tokens = []\n",
    "    for token in doc:\n",
    "        if (\n",
    "            not token.is_stop and\n",
    "            not token.is_punct and\n",
    "            not token.is_digit and\n",
    "            not token.is_bracket and\n",
    "            not token.is_currency and\n",
    "            not token.is_space and\n",
    "            token.text not in named_entities\n",
    "        ):\n",
    "            processed_tokens.append(token.lemma_.lower())\n",
    "    \n",
    "    filtered = ' '.join(processed_tokens)\n",
    "    words = filtered.split()\n",
    "    preprocessed_text = [word for word in words if word not in [\n",
    "        'http', 'https', 'www', 'com', 'org', 'mailto', 'regards', 'rgds',\n",
    "        'imlu', 'email', 'attachment', 'ea', 'e', 'bdo', '7c', 'cnjange'\n",
    "    ]]\n",
    "    \n",
    "    return ' '.join(preprocessed_text)\n",
    "\n",
    "# Example usage\n",
    "text = \"hello , please find the attached document. regards, kariuki\"\n",
    "print(preprocessed_emails(text))\n"
   ]
  },
  {
   "cell_type": "code",
   "execution_count": 31,
   "id": "cb9de786-093e-49e7-bba3-396bfd14c182",
   "metadata": {},
   "outputs": [],
   "source": [
    "bardf = pd.read_json('complain.json')"
   ]
  },
  {
   "cell_type": "code",
   "execution_count": 32,
   "id": "a201211f-b3dd-4013-b712-28833e283329",
   "metadata": {},
   "outputs": [
    {
     "data": {
      "text/plain": [
       "<Axes: >"
      ]
     },
     "execution_count": 32,
     "metadata": {},
     "output_type": "execute_result"
    },
    {
     "data": {
      "image/png": "[encoded data removed]",
      "text/plain": [
       "<Figure size 640x480 with 1 Axes>"
      ]
     },
     "metadata": {},
     "output_type": "display_data"
    }
   ],
   "source": [
    "bardf.plot(kind='barh')"
   ]
  },
  {
   "cell_type": "code",
   "execution_count": 1,
   "id": "c4824679-b0f1-4c35-9fe1-bef00d852d0e",
   "metadata": {},
   "outputs": [],
   "source": [
    "import pandas as pd"
   ]
  },
  {
   "cell_type": "code",
   "execution_count": 2,
   "id": "55d7e68c-bc60-424d-9fc3-79c2d9660f9c",
   "metadata": {},
   "outputs": [],
   "source": [
    "df = pd.read_csv(\"preprocessing_complet.csv\")"
   ]
  },
  {
   "cell_type": "code",
   "execution_count": 3,
   "id": "823d3c81-67b7-4ddd-ab19-84a3c9e64bfb",
   "metadata": {},
   "outputs": [
    {
     "data": {
      "text/html": [
       "<div>\n",
       "<style scoped>\n",
       "    .dataframe tbody tr th:only-of-type {\n",
       "        vertical-align: middle;\n",
       "    }\n",
       "\n",
       "    .dataframe tbody tr th {\n",
       "        vertical-align: top;\n",
       "    }\n",
       "\n",
       "    .dataframe thead th {\n",
       "        text-align: right;\n",
       "    }\n",
       "</style>\n",
       "<table border=\"1\" class=\"dataframe\">\n",
       "  <thead>\n",
       "    <tr style=\"text-align: right;\">\n",
       "      <th></th>\n",
       "      <th>Unnamed: 0</th>\n",
       "      <th>cli_name</th>\n",
       "      <th>Subject</th>\n",
       "      <th>From</th>\n",
       "      <th>To</th>\n",
       "      <th>Text</th>\n",
       "      <th>preprocessed_Text</th>\n",
       "      <th>description_lengths</th>\n",
       "    </tr>\n",
       "  </thead>\n",
       "  <tbody>\n",
       "    <tr>\n",
       "      <th>0</th>\n",
       "      <td>0</td>\n",
       "      <td>Giza Systems</td>\n",
       "      <td>RE Company Form 20 Adding Richard and Ehab Th...</td>\n",
       "      <td>Ahmed Hany</td>\n",
       "      <td>Salim salim</td>\n",
       "      <td>Adding Richard and Ehab Thanks Best Regards A...</td>\n",
       "      <td>add thank best elsayed country sales manager u...</td>\n",
       "      <td>32</td>\n",
       "    </tr>\n",
       "    <tr>\n",
       "      <th>1</th>\n",
       "      <td>1</td>\n",
       "      <td>Giza Systems</td>\n",
       "      <td>RE Rejection of TCC</td>\n",
       "      <td>Ahmed Hany</td>\n",
       "      <td>Nanyonjo Jacinta</td>\n",
       "      <td>Dear Rita Kindly find attached Thanks Best Re...</td>\n",
       "      <td>kindly find attach thank best elsayed country ...</td>\n",
       "      <td>34</td>\n",
       "    </tr>\n",
       "    <tr>\n",
       "      <th>2</th>\n",
       "      <td>2</td>\n",
       "      <td>INDEPENDENT MEDICO LEGAL UNIT (IMLU)</td>\n",
       "      <td>Re Application for Income Tax Exemption Certi...</td>\n",
       "      <td>Carolyn Njange</td>\n",
       "      <td>Peter peter</td>\n",
       "      <td>Dear Mwangi This is fine with us Regards On T...</td>\n",
       "      <td>fine tue apr write good evening thank reach pr...</td>\n",
       "      <td>157</td>\n",
       "    </tr>\n",
       "    <tr>\n",
       "      <th>3</th>\n",
       "      <td>3</td>\n",
       "      <td>INDEPENDENT MEDICO LEGAL UNIT (IMLU)</td>\n",
       "      <td>Re Application for Income Tax Exemption Certi...</td>\n",
       "      <td>Carolyn Njange</td>\n",
       "      <td>Phoebe kra</td>\n",
       "      <td>From Carolyn Njange cnjange imlu org mailto c...</td>\n",
       "      <td>send tuesday april ochiel ke ochiel ke ochiel ...</td>\n",
       "      <td>443</td>\n",
       "    </tr>\n",
       "    <tr>\n",
       "      <th>4</th>\n",
       "      <td>4</td>\n",
       "      <td>INDEPENDENT MEDICO LEGAL UNIT (IMLU)</td>\n",
       "      <td>Re Application for Income Tax Exemption Certi...</td>\n",
       "      <td>Carolyn Njange</td>\n",
       "      <td>Phoebe kra</td>\n",
       "      <td>Dear Mwangi We spoke when Phoebe requested th...</td>\n",
       "      <td>speak request additional information promise r...</td>\n",
       "      <td>378</td>\n",
       "    </tr>\n",
       "    <tr>\n",
       "      <th>...</th>\n",
       "      <td>...</td>\n",
       "      <td>...</td>\n",
       "      <td>...</td>\n",
       "      <td>...</td>\n",
       "      <td>...</td>\n",
       "      <td>...</td>\n",
       "      <td>...</td>\n",
       "      <td>...</td>\n",
       "    </tr>\n",
       "    <tr>\n",
       "      <th>91</th>\n",
       "      <td>91</td>\n",
       "      <td>Snetor East Africa Limited</td>\n",
       "      <td>Fw REQUEST FOR INFORMATION</td>\n",
       "      <td>Shiraz Rehmanji</td>\n",
       "      <td>REHMANJI s</td>\n",
       "      <td>This email originated from outside of the org...</td>\n",
       "      <td>originate outside organization click link open...</td>\n",
       "      <td>51</td>\n",
       "    </tr>\n",
       "    <tr>\n",
       "      <th>92</th>\n",
       "      <td>92</td>\n",
       "      <td>Snetor East Africa Limited</td>\n",
       "      <td>Fw REQUEST FOR INFORMATION</td>\n",
       "      <td>Shiraz Rehmanji</td>\n",
       "      <td>REHMANJI s</td>\n",
       "      <td>This email originated from outside of the org...</td>\n",
       "      <td>originate outside organization click link open...</td>\n",
       "      <td>85</td>\n",
       "    </tr>\n",
       "    <tr>\n",
       "      <th>93</th>\n",
       "      <td>93</td>\n",
       "      <td>Snetor East Africa Limited</td>\n",
       "      <td>Fw REQUEST FOR INFORMATION</td>\n",
       "      <td>Shiraz Rehmanji</td>\n",
       "      <td>REHMANJI s</td>\n",
       "      <td>This email originated from outside of the org...</td>\n",
       "      <td>originate outside organization click link open...</td>\n",
       "      <td>84</td>\n",
       "    </tr>\n",
       "    <tr>\n",
       "      <th>94</th>\n",
       "      <td>94</td>\n",
       "      <td>Snetor East Africa Limited</td>\n",
       "      <td>Fw REQUEST FOR INFORMATION</td>\n",
       "      <td>Shiraz Rehmanji</td>\n",
       "      <td>REHMANJI s</td>\n",
       "      <td>This email originated from outside of the org...</td>\n",
       "      <td>originate outside organization click link open...</td>\n",
       "      <td>83</td>\n",
       "    </tr>\n",
       "    <tr>\n",
       "      <th>95</th>\n",
       "      <td>95</td>\n",
       "      <td>Snetor East Africa Limited</td>\n",
       "      <td>Fw REQUEST FOR INFORMATION</td>\n",
       "      <td>Shiraz Rehmanji</td>\n",
       "      <td>REHMANJI s</td>\n",
       "      <td>This email originated from outside of the org...</td>\n",
       "      <td>originate outside organization click link open...</td>\n",
       "      <td>82</td>\n",
       "    </tr>\n",
       "  </tbody>\n",
       "</table>\n",
       "<p>96 rows × 8 columns</p>\n",
       "</div>"
      ],
      "text/plain": [
       "    Unnamed: 0                              cli_name  \\\n",
       "0            0                          Giza Systems   \n",
       "1            1                          Giza Systems   \n",
       "2            2  INDEPENDENT MEDICO LEGAL UNIT (IMLU)   \n",
       "3            3  INDEPENDENT MEDICO LEGAL UNIT (IMLU)   \n",
       "4            4  INDEPENDENT MEDICO LEGAL UNIT (IMLU)   \n",
       "..         ...                                   ...   \n",
       "91          91            Snetor East Africa Limited   \n",
       "92          92            Snetor East Africa Limited   \n",
       "93          93            Snetor East Africa Limited   \n",
       "94          94            Snetor East Africa Limited   \n",
       "95          95            Snetor East Africa Limited   \n",
       "\n",
       "                                              Subject             From  \\\n",
       "0    RE Company Form 20 Adding Richard and Ehab Th...       Ahmed Hany   \n",
       "1                                 RE Rejection of TCC       Ahmed Hany   \n",
       "2    Re Application for Income Tax Exemption Certi...   Carolyn Njange   \n",
       "3    Re Application for Income Tax Exemption Certi...   Carolyn Njange   \n",
       "4    Re Application for Income Tax Exemption Certi...   Carolyn Njange   \n",
       "..                                                ...              ...   \n",
       "91                         Fw REQUEST FOR INFORMATION  Shiraz Rehmanji   \n",
       "92                         Fw REQUEST FOR INFORMATION  Shiraz Rehmanji   \n",
       "93                         Fw REQUEST FOR INFORMATION  Shiraz Rehmanji   \n",
       "94                         Fw REQUEST FOR INFORMATION  Shiraz Rehmanji   \n",
       "95                         Fw REQUEST FOR INFORMATION  Shiraz Rehmanji   \n",
       "\n",
       "                  To                                               Text  \\\n",
       "0        Salim salim   Adding Richard and Ehab Thanks Best Regards A...   \n",
       "1   Nanyonjo Jacinta   Dear Rita Kindly find attached Thanks Best Re...   \n",
       "2        Peter peter   Dear Mwangi This is fine with us Regards On T...   \n",
       "3         Phoebe kra   From Carolyn Njange cnjange imlu org mailto c...   \n",
       "4         Phoebe kra   Dear Mwangi We spoke when Phoebe requested th...   \n",
       "..               ...                                                ...   \n",
       "91        REHMANJI s   This email originated from outside of the org...   \n",
       "92        REHMANJI s   This email originated from outside of the org...   \n",
       "93        REHMANJI s   This email originated from outside of the org...   \n",
       "94        REHMANJI s   This email originated from outside of the org...   \n",
       "95        REHMANJI s   This email originated from outside of the org...   \n",
       "\n",
       "                                    preprocessed_Text  description_lengths  \n",
       "0   add thank best elsayed country sales manager u...                   32  \n",
       "1   kindly find attach thank best elsayed country ...                   34  \n",
       "2   fine tue apr write good evening thank reach pr...                  157  \n",
       "3   send tuesday april ochiel ke ochiel ke ochiel ...                  443  \n",
       "4   speak request additional information promise r...                  378  \n",
       "..                                                ...                  ...  \n",
       "91  originate outside organization click link open...                   51  \n",
       "92  originate outside organization click link open...                   85  \n",
       "93  originate outside organization click link open...                   84  \n",
       "94  originate outside organization click link open...                   83  \n",
       "95  originate outside organization click link open...                   82  \n",
       "\n",
       "[96 rows x 8 columns]"
      ]
     },
     "execution_count": 3,
     "metadata": {},
     "output_type": "execute_result"
    }
   ],
   "source": [
    "df"
   ]
  },
  {
   "cell_type": "code",
   "execution_count": 13,
   "id": "6acff845-0afb-4af2-9e37-aa0ba55ea84d",
   "metadata": {},
   "outputs": [
    {
     "data": {
      "text/plain": [
       "2      Dear Mwangi This is fine with us Regards On T...\n",
       "3      From Carolyn Njange cnjange imlu org mailto c...\n",
       "4      Dear Mwangi We spoke when Phoebe requested th...\n",
       "5      Dear Kariuki Thank you for that clarification...\n",
       "6      From Carolyn Njange cnjange imlu org mailto c...\n",
       "7      Dear BDO Team See list of requirements from K...\n",
       "8      Dear Peter Find attached the filled tax payer...\n",
       "9      Dear Mwangi Kindly revert to us as promised e...\n",
       "10     From Carolyn Njange cnjange imlu org mailto c...\n",
       "11     Dear Mwangi Find attached the TCC for our Boa...\n",
       "12     From Carolyn Njange cnjange imlu org mailto c...\n",
       "13     Dear Mwangi We spoke Find attached pending re...\n",
       "14     Dear Mwangi and Kariuki Find attached the GL ...\n",
       "15     Dear Mwangi Find attached the compliance cert...\n",
       "16     Dear Peter Find attached the filled tax payer...\n",
       "17     Well noted will share the link On Tue 6 Jun 2...\n",
       "18     From Carolyn Njange cnjange imlu org mailto c...\n",
       "Name: Text, dtype: object"
      ]
     },
     "execution_count": 13,
     "metadata": {},
     "output_type": "execute_result"
    }
   ],
   "source": [
    "df[df['cli_name']=='INDEPENDENT MEDICO LEGAL UNIT (IMLU)']['Text']"
   ]
  },
  {
   "cell_type": "code",
   "execution_count": 45,
   "id": "420690c6-3c5d-43e0-9f72-01b9d4eb69ad",
   "metadata": {},
   "outputs": [
    {
     "data": {
      "text/html": [
       "<div>\n",
       "<style scoped>\n",
       "    .dataframe tbody tr th:only-of-type {\n",
       "        vertical-align: middle;\n",
       "    }\n",
       "\n",
       "    .dataframe tbody tr th {\n",
       "        vertical-align: top;\n",
       "    }\n",
       "\n",
       "    .dataframe thead th {\n",
       "        text-align: right;\n",
       "    }\n",
       "</style>\n",
       "<table border=\"1\" class=\"dataframe\">\n",
       "  <thead>\n",
       "    <tr style=\"text-align: right;\">\n",
       "      <th></th>\n",
       "      <th>cli_name</th>\n",
       "      <th>Subject</th>\n",
       "      <th>From</th>\n",
       "      <th>To</th>\n",
       "      <th>Text</th>\n",
       "      <th>preprocessed_Text</th>\n",
       "      <th>description_lengths</th>\n",
       "      <th>score</th>\n",
       "      <th>compound</th>\n",
       "      <th>Sentiment</th>\n",
       "    </tr>\n",
       "  </thead>\n",
       "  <tbody>\n",
       "    <tr>\n",
       "      <th>0</th>\n",
       "      <td>Giza Systems</td>\n",
       "      <td>RE Company Form 20 Adding Richard and Ehab Th...</td>\n",
       "      <td>Ahmed Hany</td>\n",
       "      <td>Salim salim</td>\n",
       "      <td>Adding Richard and Ehab Thanks Best Regards A...</td>\n",
       "      <td>add thank best elsayed country sales manager u...</td>\n",
       "      <td>32</td>\n",
       "      <td>{'neg': 0.0, 'neu': 0.817, 'pos': 0.183, 'comp...</td>\n",
       "      <td>0.7717</td>\n",
       "      <td>Very Satisfied</td>\n",
       "    </tr>\n",
       "    <tr>\n",
       "      <th>1</th>\n",
       "      <td>Giza Systems</td>\n",
       "      <td>RE Rejection of TCC</td>\n",
       "      <td>Ahmed Hany</td>\n",
       "      <td>Nanyonjo Jacinta</td>\n",
       "      <td>Dear Rita Kindly find attached Thanks Best Re...</td>\n",
       "      <td>kindly find attach thank best elsayed country ...</td>\n",
       "      <td>34</td>\n",
       "      <td>{'neg': 0.0, 'neu': 0.758, 'pos': 0.242, 'comp...</td>\n",
       "      <td>0.8720</td>\n",
       "      <td>Very Satisfied</td>\n",
       "    </tr>\n",
       "    <tr>\n",
       "      <th>2</th>\n",
       "      <td>INDEPENDENT MEDICO LEGAL UNIT (IMLU)</td>\n",
       "      <td>Re Application for Income Tax Exemption Certi...</td>\n",
       "      <td>Carolyn Njange</td>\n",
       "      <td>Peter peter</td>\n",
       "      <td>Dear Mwangi This is fine with us Regards On T...</td>\n",
       "      <td>fine tue apr write good evening thank reach pr...</td>\n",
       "      <td>157</td>\n",
       "      <td>{'neg': 0.071, 'neu': 0.77, 'pos': 0.159, 'com...</td>\n",
       "      <td>0.9300</td>\n",
       "      <td>Very Satisfied</td>\n",
       "    </tr>\n",
       "    <tr>\n",
       "      <th>3</th>\n",
       "      <td>INDEPENDENT MEDICO LEGAL UNIT (IMLU)</td>\n",
       "      <td>Re Application for Income Tax Exemption Certi...</td>\n",
       "      <td>Carolyn Njange</td>\n",
       "      <td>Phoebe kra</td>\n",
       "      <td>From Carolyn Njange cnjange imlu org mailto c...</td>\n",
       "      <td>send tuesday april ochiel ke ochiel ke ochiel ...</td>\n",
       "      <td>443</td>\n",
       "      <td>{'neg': 0.009, 'neu': 0.792, 'pos': 0.2, 'comp...</td>\n",
       "      <td>0.9980</td>\n",
       "      <td>Very Satisfied</td>\n",
       "    </tr>\n",
       "    <tr>\n",
       "      <th>4</th>\n",
       "      <td>INDEPENDENT MEDICO LEGAL UNIT (IMLU)</td>\n",
       "      <td>Re Application for Income Tax Exemption Certi...</td>\n",
       "      <td>Carolyn Njange</td>\n",
       "      <td>Phoebe kra</td>\n",
       "      <td>Dear Mwangi We spoke when Phoebe requested th...</td>\n",
       "      <td>speak request additional information promise r...</td>\n",
       "      <td>378</td>\n",
       "      <td>{'neg': 0.01, 'neu': 0.775, 'pos': 0.215, 'com...</td>\n",
       "      <td>0.9977</td>\n",
       "      <td>Very Satisfied</td>\n",
       "    </tr>\n",
       "    <tr>\n",
       "      <th>...</th>\n",
       "      <td>...</td>\n",
       "      <td>...</td>\n",
       "      <td>...</td>\n",
       "      <td>...</td>\n",
       "      <td>...</td>\n",
       "      <td>...</td>\n",
       "      <td>...</td>\n",
       "      <td>...</td>\n",
       "      <td>...</td>\n",
       "      <td>...</td>\n",
       "    </tr>\n",
       "    <tr>\n",
       "      <th>91</th>\n",
       "      <td>Snetor East Africa Limited</td>\n",
       "      <td>Fw REQUEST FOR INFORMATION</td>\n",
       "      <td>Shiraz Rehmanji</td>\n",
       "      <td>REHMANJI s</td>\n",
       "      <td>This email originated from outside of the org...</td>\n",
       "      <td>originate outside organization click link open...</td>\n",
       "      <td>51</td>\n",
       "      <td>{'neg': 0.0, 'neu': 0.805, 'pos': 0.195, 'comp...</td>\n",
       "      <td>0.8860</td>\n",
       "      <td>Very Satisfied</td>\n",
       "    </tr>\n",
       "    <tr>\n",
       "      <th>92</th>\n",
       "      <td>Snetor East Africa Limited</td>\n",
       "      <td>Fw REQUEST FOR INFORMATION</td>\n",
       "      <td>Shiraz Rehmanji</td>\n",
       "      <td>REHMANJI s</td>\n",
       "      <td>This email originated from outside of the org...</td>\n",
       "      <td>originate outside organization click link open...</td>\n",
       "      <td>82</td>\n",
       "      <td>{'neg': 0.0, 'neu': 0.872, 'pos': 0.128, 'comp...</td>\n",
       "      <td>0.8860</td>\n",
       "      <td>Very Satisfied</td>\n",
       "    </tr>\n",
       "    <tr>\n",
       "      <th>93</th>\n",
       "      <td>Snetor East Africa Limited</td>\n",
       "      <td>Fw REQUEST FOR INFORMATION</td>\n",
       "      <td>Shiraz Rehmanji</td>\n",
       "      <td>REHMANJI s</td>\n",
       "      <td>This email originated from outside of the org...</td>\n",
       "      <td>originate outside organization click link open...</td>\n",
       "      <td>81</td>\n",
       "      <td>{'neg': 0.0, 'neu': 0.871, 'pos': 0.129, 'comp...</td>\n",
       "      <td>0.8860</td>\n",
       "      <td>Very Satisfied</td>\n",
       "    </tr>\n",
       "    <tr>\n",
       "      <th>94</th>\n",
       "      <td>Snetor East Africa Limited</td>\n",
       "      <td>Fw REQUEST FOR INFORMATION</td>\n",
       "      <td>Shiraz Rehmanji</td>\n",
       "      <td>REHMANJI s</td>\n",
       "      <td>This email originated from outside of the org...</td>\n",
       "      <td>originate outside organization click link open...</td>\n",
       "      <td>80</td>\n",
       "      <td>{'neg': 0.0, 'neu': 0.87, 'pos': 0.13, 'compou...</td>\n",
       "      <td>0.8860</td>\n",
       "      <td>Very Satisfied</td>\n",
       "    </tr>\n",
       "    <tr>\n",
       "      <th>95</th>\n",
       "      <td>Snetor East Africa Limited</td>\n",
       "      <td>Fw REQUEST FOR INFORMATION</td>\n",
       "      <td>Shiraz Rehmanji</td>\n",
       "      <td>REHMANJI s</td>\n",
       "      <td>This email originated from outside of the org...</td>\n",
       "      <td>originate outside organization click link open...</td>\n",
       "      <td>79</td>\n",
       "      <td>{'neg': 0.0, 'neu': 0.868, 'pos': 0.132, 'comp...</td>\n",
       "      <td>0.8860</td>\n",
       "      <td>Very Satisfied</td>\n",
       "    </tr>\n",
       "  </tbody>\n",
       "</table>\n",
       "<p>96 rows × 10 columns</p>\n",
       "</div>"
      ],
      "text/plain": [
       "                                cli_name  \\\n",
       "0                           Giza Systems   \n",
       "1                           Giza Systems   \n",
       "2   INDEPENDENT MEDICO LEGAL UNIT (IMLU)   \n",
       "3   INDEPENDENT MEDICO LEGAL UNIT (IMLU)   \n",
       "4   INDEPENDENT MEDICO LEGAL UNIT (IMLU)   \n",
       "..                                   ...   \n",
       "91            Snetor East Africa Limited   \n",
       "92            Snetor East Africa Limited   \n",
       "93            Snetor East Africa Limited   \n",
       "94            Snetor East Africa Limited   \n",
       "95            Snetor East Africa Limited   \n",
       "\n",
       "                                              Subject             From  \\\n",
       "0    RE Company Form 20 Adding Richard and Ehab Th...       Ahmed Hany   \n",
       "1                                 RE Rejection of TCC       Ahmed Hany   \n",
       "2    Re Application for Income Tax Exemption Certi...   Carolyn Njange   \n",
       "3    Re Application for Income Tax Exemption Certi...   Carolyn Njange   \n",
       "4    Re Application for Income Tax Exemption Certi...   Carolyn Njange   \n",
       "..                                                ...              ...   \n",
       "91                         Fw REQUEST FOR INFORMATION  Shiraz Rehmanji   \n",
       "92                         Fw REQUEST FOR INFORMATION  Shiraz Rehmanji   \n",
       "93                         Fw REQUEST FOR INFORMATION  Shiraz Rehmanji   \n",
       "94                         Fw REQUEST FOR INFORMATION  Shiraz Rehmanji   \n",
       "95                         Fw REQUEST FOR INFORMATION  Shiraz Rehmanji   \n",
       "\n",
       "                  To                                               Text  \\\n",
       "0        Salim salim   Adding Richard and Ehab Thanks Best Regards A...   \n",
       "1   Nanyonjo Jacinta   Dear Rita Kindly find attached Thanks Best Re...   \n",
       "2        Peter peter   Dear Mwangi This is fine with us Regards On T...   \n",
       "3         Phoebe kra   From Carolyn Njange cnjange imlu org mailto c...   \n",
       "4         Phoebe kra   Dear Mwangi We spoke when Phoebe requested th...   \n",
       "..               ...                                                ...   \n",
       "91        REHMANJI s   This email originated from outside of the org...   \n",
       "92        REHMANJI s   This email originated from outside of the org...   \n",
       "93        REHMANJI s   This email originated from outside of the org...   \n",
       "94        REHMANJI s   This email originated from outside of the org...   \n",
       "95        REHMANJI s   This email originated from outside of the org...   \n",
       "\n",
       "                                    preprocessed_Text  description_lengths  \\\n",
       "0   add thank best elsayed country sales manager u...                   32   \n",
       "1   kindly find attach thank best elsayed country ...                   34   \n",
       "2   fine tue apr write good evening thank reach pr...                  157   \n",
       "3   send tuesday april ochiel ke ochiel ke ochiel ...                  443   \n",
       "4   speak request additional information promise r...                  378   \n",
       "..                                                ...                  ...   \n",
       "91  originate outside organization click link open...                   51   \n",
       "92  originate outside organization click link open...                   82   \n",
       "93  originate outside organization click link open...                   81   \n",
       "94  originate outside organization click link open...                   80   \n",
       "95  originate outside organization click link open...                   79   \n",
       "\n",
       "                                                score  compound  \\\n",
       "0   {'neg': 0.0, 'neu': 0.817, 'pos': 0.183, 'comp...    0.7717   \n",
       "1   {'neg': 0.0, 'neu': 0.758, 'pos': 0.242, 'comp...    0.8720   \n",
       "2   {'neg': 0.071, 'neu': 0.77, 'pos': 0.159, 'com...    0.9300   \n",
       "3   {'neg': 0.009, 'neu': 0.792, 'pos': 0.2, 'comp...    0.9980   \n",
       "4   {'neg': 0.01, 'neu': 0.775, 'pos': 0.215, 'com...    0.9977   \n",
       "..                                                ...       ...   \n",
       "91  {'neg': 0.0, 'neu': 0.805, 'pos': 0.195, 'comp...    0.8860   \n",
       "92  {'neg': 0.0, 'neu': 0.872, 'pos': 0.128, 'comp...    0.8860   \n",
       "93  {'neg': 0.0, 'neu': 0.871, 'pos': 0.129, 'comp...    0.8860   \n",
       "94  {'neg': 0.0, 'neu': 0.87, 'pos': 0.13, 'compou...    0.8860   \n",
       "95  {'neg': 0.0, 'neu': 0.868, 'pos': 0.132, 'comp...    0.8860   \n",
       "\n",
       "         Sentiment  \n",
       "0   Very Satisfied  \n",
       "1   Very Satisfied  \n",
       "2   Very Satisfied  \n",
       "3   Very Satisfied  \n",
       "4   Very Satisfied  \n",
       "..             ...  \n",
       "91  Very Satisfied  \n",
       "92  Very Satisfied  \n",
       "93  Very Satisfied  \n",
       "94  Very Satisfied  \n",
       "95  Very Satisfied  \n",
       "\n",
       "[96 rows x 10 columns]"
      ]
     },
     "execution_count": 45,
     "metadata": {},
     "output_type": "execute_result"
    }
   ],
   "source": [
    "df"
   ]
  },
  {
   "cell_type": "code",
   "execution_count": null,
   "id": "6d0b4607-f957-46d0-bf21-f59e7c8fa964",
   "metadata": {},
   "outputs": [],
   "source": []
  },
  {
   "cell_type": "code",
   "execution_count": null,
   "id": "bc769965-1abd-4e95-9c05-e56117fc08de",
   "metadata": {},
   "outputs": [],
   "source": []
  },
  {
   "cell_type": "code",
   "execution_count": null,
   "id": "e93e5b96-cf78-4286-98d9-ef05b9935782",
   "metadata": {},
   "outputs": [],
   "source": []
  }
 ],
 "metadata": {
  "kernelspec": {
   "display_name": "Python 3 (ipykernel)",
   "language": "python",
   "name": "python3"
  },
  "language_info": {
   "codemirror_mode": {
    "name": "ipython",
    "version": 3
   },
   "file_extension": ".py",
   "mimetype": "text/x-python",
   "name": "python",
   "nbconvert_exporter": "python",
   "pygments_lexer": "ipython3",
   "version": "3.8.10"
  }
 },
 "nbformat": 4,
 "nbformat_minor": 5
}
